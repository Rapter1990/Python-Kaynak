{
 "cells": [
  {
   "cell_type": "code",
   "execution_count": 1,
   "metadata": {
    "collapsed": true
   },
   "outputs": [],
   "source": [
    "# sys modulu import ettik\n",
    "import sys"
   ]
  },
  {
   "cell_type": "code",
   "execution_count": 2,
   "metadata": {},
   "outputs": [
    {
     "name": "stdout",
     "output_type": "stream",
     "text": [
      "['__displayhook__', '__doc__', '__excepthook__', '__interactivehook__', '__loader__', '__name__', '__package__', '__spec__', '__stderr__', '__stdin__', '__stdout__', '_clear_type_cache', '_current_frames', '_debugmallocstats', '_enablelegacywindowsfsencoding', '_getframe', '_git', '_home', '_xoptions', 'api_version', 'argv', 'base_exec_prefix', 'base_prefix', 'builtin_module_names', 'byteorder', 'call_tracing', 'callstats', 'copyright', 'displayhook', 'dllhandle', 'dont_write_bytecode', 'exc_info', 'excepthook', 'exec_prefix', 'executable', 'exit', 'flags', 'float_info', 'float_repr_style', 'get_asyncgen_hooks', 'get_coroutine_wrapper', 'getallocatedblocks', 'getcheckinterval', 'getdefaultencoding', 'getfilesystemencodeerrors', 'getfilesystemencoding', 'getprofile', 'getrecursionlimit', 'getrefcount', 'getsizeof', 'getswitchinterval', 'gettrace', 'getwindowsversion', 'hash_info', 'hexversion', 'implementation', 'int_info', 'intern', 'is_finalizing', 'maxsize', 'maxunicode', 'meta_path', 'modules', 'path', 'path_hooks', 'path_importer_cache', 'platform', 'prefix', 'ps1', 'ps2', 'ps3', 'set_asyncgen_hooks', 'set_coroutine_wrapper', 'setcheckinterval', 'setprofile', 'setrecursionlimit', 'setswitchinterval', 'settrace', 'stderr', 'stdin', 'stdout', 'thread_info', 'version', 'version_info', 'warnoptions', 'winver']\n"
     ]
    }
   ],
   "source": [
    "# sys kullanılabilecek methodları gösterir\n",
    "print(dir(sys))"
   ]
  },
  {
   "cell_type": "code",
   "execution_count": 4,
   "metadata": {
    "collapsed": true
   },
   "outputs": [],
   "source": [
    "# sys.exit() -> programı o satırda sonlandırır"
   ]
  },
  {
   "cell_type": "code",
   "execution_count": 5,
   "metadata": {
    "collapsed": true
   },
   "outputs": [],
   "source": [
    "# stdin()  -> kullanıcıdan import alabilmek için kullanılır. (input)"
   ]
  },
  {
   "cell_type": "code",
   "execution_count": 6,
   "metadata": {
    "collapsed": true
   },
   "outputs": [],
   "source": [
    "# stdout() -> kullanıya çıktı verebilmek için kullanılır. (print)"
   ]
  },
  {
   "cell_type": "code",
   "execution_count": 7,
   "metadata": {
    "collapsed": true
   },
   "outputs": [],
   "source": [
    "# stderr() -> ekrana hata mesajı gösterir."
   ]
  },
  {
   "cell_type": "code",
   "execution_count": null,
   "metadata": {
    "collapsed": true
   },
   "outputs": [],
   "source": [
    "#sys modulu import ettik\n",
    "import sys\n",
    "\n",
    "# sys kullanılabilecek methodları gösterir\n",
    "#print(dir(sys))\n",
    "\n",
    "\n",
    "###########################################3###################\n",
    "#a = int(input(\"a: \"))\n",
    "#b = int(input(\"b: \"))\n",
    "\n",
    "#sys.exit() # program burada sonlanır. buradan itibaren programı çalıştırmaz\n",
    "#c = int(input(\"c: \"))\n",
    "\n",
    "\n",
    "\n",
    "\n",
    "# stderr , stdout , stderr\n",
    "#sys.stderr.write(\"Hata mesajı\\n\")\n",
    "\n",
    "# dosya büyükse buffer da flush kullanacağız . Ekranı boşaltıyor ve ekrana yazdırıyor.\n",
    "# büyük dosyalar için kullanılır\n",
    "#sys.stderr.flush()\n",
    "\n",
    "\n",
    "# stdout\n",
    "#sys.stdout.write(\"Bu bir yazıdır\\n\")\n",
    "\n",
    "# argv -> dosyanın konumu tek elemanlı bir dizide gösterir.\n",
    "#print(sys.argv)\n",
    "\n",
    "# IDE yanındaki tuşa bas ve terminal bas\n",
    "#for i in sys.argv:\n",
    "#    print(i)\n",
    "\n",
    "#print(sys.argv)\n",
    "\n",
    "\n",
    "#C:\\Users\\user\\PycharmProjects\\Kodlama Egzersizleri\\14 - İleri Seviye Modüller\\3 - sys>python sys.py 1 2 3\n",
    "#sys.py\n",
    "#1\n",
    "#2\n",
    "#3\n",
    "\n",
    "#C:\\Users\\user\\PycharmProjects\\Kodlama Egzersizleri\\14 - İleri Seviye Modüller\\3 - sys>python sys.py 1 2 3\n",
    "#['sys.py', '1', '2', '3']\n",
    "\n",
    "\n",
    "#kök bulma\n",
    "def kok_bulma(a,b,c):\n",
    "\n",
    "    delta = b **2 - 4 * a * c\n",
    "\n",
    "    if(delta < 0):\n",
    "        print(\"Reel Kök Yok\")\n",
    "    else:\n",
    "        x1 = (-b - delta ** 0.5) / (2 * a)\n",
    "        x2 = (-b + delta ** 0.5) / (2 * a)\n",
    "        return (x1,x2)\n",
    "\n",
    "\n",
    "if(len(sys.argv) == 4) : # 4 değer gerekiyor 1- dosya ismi diğerleri a,b ve c\n",
    "    print(\"Kök Bulma \",kok_bulma(int(sys.argv[1]),int(sys.argv[2]),int(sys.argv[3])))\n",
    "else:\n",
    "    sys.stderr.write(\"Doğru Değerler Giriniz.\") #terminalden dolayı kırmızı olmadı ama buradan Run deseydik olacaktı\n",
    "    sys.stderr.flush()\n",
    "\n",
    "#Multi comment ctrl + / tuşu\n",
    "\n",
    "# C:\\Users\\user\\PycharmProjects\\Kodlama Egzersizleri\\14 - İleri Seviye Modüller\\3 - sys>python sys.py 1 2 1\n",
    "# Kök Bulma  (-1.0, -1.0)"
   ]
  }
 ],
 "metadata": {
  "kernelspec": {
   "display_name": "Python 3",
   "language": "python",
   "name": "python3"
  },
  "language_info": {
   "codemirror_mode": {
    "name": "ipython",
    "version": 3
   },
   "file_extension": ".py",
   "mimetype": "text/x-python",
   "name": "python",
   "nbconvert_exporter": "python",
   "pygments_lexer": "ipython3",
   "version": "3.6.1"
  }
 },
 "nbformat": 4,
 "nbformat_minor": 2
}
