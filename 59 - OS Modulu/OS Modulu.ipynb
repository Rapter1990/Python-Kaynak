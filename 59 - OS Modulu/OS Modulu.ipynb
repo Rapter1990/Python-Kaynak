{
 "cells": [
  {
   "cell_type": "code",
   "execution_count": 1,
   "metadata": {},
   "outputs": [
    {
     "data": {
      "text/plain": [
       "['DirEntry',\n",
       " 'F_OK',\n",
       " 'MutableMapping',\n",
       " 'O_APPEND',\n",
       " 'O_BINARY',\n",
       " 'O_CREAT',\n",
       " 'O_EXCL',\n",
       " 'O_NOINHERIT',\n",
       " 'O_RANDOM',\n",
       " 'O_RDONLY',\n",
       " 'O_RDWR',\n",
       " 'O_SEQUENTIAL',\n",
       " 'O_SHORT_LIVED',\n",
       " 'O_TEMPORARY',\n",
       " 'O_TEXT',\n",
       " 'O_TRUNC',\n",
       " 'O_WRONLY',\n",
       " 'P_DETACH',\n",
       " 'P_NOWAIT',\n",
       " 'P_NOWAITO',\n",
       " 'P_OVERLAY',\n",
       " 'P_WAIT',\n",
       " 'PathLike',\n",
       " 'R_OK',\n",
       " 'SEEK_CUR',\n",
       " 'SEEK_END',\n",
       " 'SEEK_SET',\n",
       " 'TMP_MAX',\n",
       " 'W_OK',\n",
       " 'X_OK',\n",
       " '_Environ',\n",
       " '__all__',\n",
       " '__builtins__',\n",
       " '__cached__',\n",
       " '__doc__',\n",
       " '__file__',\n",
       " '__loader__',\n",
       " '__name__',\n",
       " '__package__',\n",
       " '__spec__',\n",
       " '_execvpe',\n",
       " '_exists',\n",
       " '_exit',\n",
       " '_fspath',\n",
       " '_get_exports_list',\n",
       " '_putenv',\n",
       " '_unsetenv',\n",
       " '_wrap_close',\n",
       " 'abc',\n",
       " 'abort',\n",
       " 'access',\n",
       " 'altsep',\n",
       " 'chdir',\n",
       " 'chmod',\n",
       " 'close',\n",
       " 'closerange',\n",
       " 'cpu_count',\n",
       " 'curdir',\n",
       " 'defpath',\n",
       " 'device_encoding',\n",
       " 'devnull',\n",
       " 'dup',\n",
       " 'dup2',\n",
       " 'environ',\n",
       " 'errno',\n",
       " 'error',\n",
       " 'execl',\n",
       " 'execle',\n",
       " 'execlp',\n",
       " 'execlpe',\n",
       " 'execv',\n",
       " 'execve',\n",
       " 'execvp',\n",
       " 'execvpe',\n",
       " 'extsep',\n",
       " 'fdopen',\n",
       " 'fsdecode',\n",
       " 'fsencode',\n",
       " 'fspath',\n",
       " 'fstat',\n",
       " 'fsync',\n",
       " 'ftruncate',\n",
       " 'get_exec_path',\n",
       " 'get_handle_inheritable',\n",
       " 'get_inheritable',\n",
       " 'get_terminal_size',\n",
       " 'getcwd',\n",
       " 'getcwdb',\n",
       " 'getenv',\n",
       " 'getlogin',\n",
       " 'getpid',\n",
       " 'getppid',\n",
       " 'isatty',\n",
       " 'kill',\n",
       " 'linesep',\n",
       " 'link',\n",
       " 'listdir',\n",
       " 'lseek',\n",
       " 'lstat',\n",
       " 'makedirs',\n",
       " 'mkdir',\n",
       " 'name',\n",
       " 'open',\n",
       " 'pardir',\n",
       " 'path',\n",
       " 'pathsep',\n",
       " 'pipe',\n",
       " 'popen',\n",
       " 'putenv',\n",
       " 'read',\n",
       " 'readlink',\n",
       " 'remove',\n",
       " 'removedirs',\n",
       " 'rename',\n",
       " 'renames',\n",
       " 'replace',\n",
       " 'rmdir',\n",
       " 'scandir',\n",
       " 'sep',\n",
       " 'set_handle_inheritable',\n",
       " 'set_inheritable',\n",
       " 'spawnl',\n",
       " 'spawnle',\n",
       " 'spawnv',\n",
       " 'spawnve',\n",
       " 'st',\n",
       " 'startfile',\n",
       " 'stat',\n",
       " 'stat_float_times',\n",
       " 'stat_result',\n",
       " 'statvfs_result',\n",
       " 'strerror',\n",
       " 'supports_bytes_environ',\n",
       " 'supports_dir_fd',\n",
       " 'supports_effective_ids',\n",
       " 'supports_fd',\n",
       " 'supports_follow_symlinks',\n",
       " 'symlink',\n",
       " 'sys',\n",
       " 'system',\n",
       " 'terminal_size',\n",
       " 'times',\n",
       " 'times_result',\n",
       " 'truncate',\n",
       " 'umask',\n",
       " 'uname_result',\n",
       " 'unlink',\n",
       " 'urandom',\n",
       " 'utime',\n",
       " 'waitpid',\n",
       " 'walk',\n",
       " 'write']"
      ]
     },
     "execution_count": 1,
     "metadata": {},
     "output_type": "execute_result"
    }
   ],
   "source": [
    "import os\n",
    "dir(os)"
   ]
  },
  {
   "cell_type": "code",
   "execution_count": 2,
   "metadata": {},
   "outputs": [
    {
     "data": {
      "text/plain": [
       "'C:\\\\Users\\\\user\\\\Desktop\\\\python\\\\59 - OS Modulu'"
      ]
     },
     "execution_count": 2,
     "metadata": {},
     "output_type": "execute_result"
    }
   ],
   "source": [
    "os.getcwd() #bu dosyanın neree olduğunu gösterir."
   ]
  },
  {
   "cell_type": "code",
   "execution_count": 3,
   "metadata": {},
   "outputs": [
    {
     "data": {
      "text/plain": [
       "'C:\\\\Users\\\\user\\\\Desktop'"
      ]
     },
     "execution_count": 3,
     "metadata": {},
     "output_type": "execute_result"
    }
   ],
   "source": [
    "os.chdir(\"C:/Users/user/Desktop\") # Bu fonksiyon , bulunduğumuz dizini değiştirmemizi sağlar.\n",
    "os.getcwd() "
   ]
  },
  {
   "cell_type": "code",
   "execution_count": 4,
   "metadata": {},
   "outputs": [
    {
     "name": "stdout",
     "output_type": "stream",
     "text": [
      "['1277985cc392d405031be59b67fbf0892cd8bc19.jpg', 'analog süzgeçler.docx', 'analog_suzgecler_odevi.m', 'android', 'android programming', 'apache-tomcat-8.0.32', 'ASUS Ürün Kaydına Hoş Geldiniz.lnk', 'bilgi.docx', 'BlueJ.lnk', 'deneme.m', 'dersprogramım.xlsx', 'desktop.ini', 'document.pdf', 'e ticaret projesi', 'e ticaret projesi.docx', 'E-Music', 'E-Ticaret', 'eclipse', 'Eclipse Jee Neon.lnk', 'eclipse workspace', 'eclipse.exe - Kısayol.lnk', 'english', 'ETICARETSITESI', 'ETICARETSITESI.rar', 'evraklar', 'genymotion-2.6.0-vbox.exe', 'hukuk', 'internet programming sınavı', 'iris.data', 'iris.m', 'iris.txt', 'iris2.txt', 'ispanya dilekçesi.docx', 'JSFShoppingCart', 'JSON.docx', 'JSPCustomerRegistration', 'JSPCustomerRegistration.rar', 'küçük ispanya', 'linux.docx', 'mongodb certification', 'noyan.txt', 'oracle', 'proje', 'python', 'sayisalsuzgeclerfinal.m', 'slayt2.pptx', 'sqldeveloper', 'sqldeveloper.exe - Kısayol.lnk', 'tetris.apk', 'udacity', 'unity game tutorial', 'Videolarla Güncel Pediatrik Üroloi 2i.docx', 'Videolarla Güncel Pediatrik Üroloji İstanbul.docx', 'Videolarla Güncel Pediatrik Üroloji.ankara docx.docx', 'Videolarla Güncel Pediatrik Üroloji.docx', 'Videolarla Güncel Pediatrik Üroloji.docx 2.docx', 'win war full yapma', 'Yeni Metin Belgesi.txt', 'Yeni Microsoft Office PowerPoint Sunusu.pptx']\n"
     ]
    }
   ],
   "source": [
    "print(os.listdir()) # C:/Users/user/Desktop buradaki tüm dosya ve klasörleri sırarlar (alfabetik bir şekilde)"
   ]
  },
  {
   "cell_type": "code",
   "execution_count": 5,
   "metadata": {},
   "outputs": [
    {
     "name": "stdout",
     "output_type": "stream",
     "text": [
      "1277985cc392d405031be59b67fbf0892cd8bc19.jpg\n",
      "analog süzgeçler.docx\n",
      "analog_suzgecler_odevi.m\n",
      "android\n",
      "android programming\n",
      "apache-tomcat-8.0.32\n",
      "ASUS Ürün Kaydına Hoş Geldiniz.lnk\n",
      "bilgi.docx\n",
      "BlueJ.lnk\n",
      "deneme.m\n",
      "dersprogramım.xlsx\n",
      "desktop.ini\n",
      "document.pdf\n",
      "e ticaret projesi\n",
      "e ticaret projesi.docx\n",
      "E-Music\n",
      "E-Ticaret\n",
      "eclipse\n",
      "Eclipse Jee Neon.lnk\n",
      "eclipse workspace\n",
      "eclipse.exe - Kısayol.lnk\n",
      "english\n",
      "ETICARETSITESI\n",
      "ETICARETSITESI.rar\n",
      "evraklar\n",
      "genymotion-2.6.0-vbox.exe\n",
      "hukuk\n",
      "internet programming sınavı\n",
      "iris.data\n",
      "iris.m\n",
      "iris.txt\n",
      "iris2.txt\n",
      "ispanya dilekçesi.docx\n",
      "JSFShoppingCart\n",
      "JSON.docx\n",
      "JSPCustomerRegistration\n",
      "JSPCustomerRegistration.rar\n",
      "küçük ispanya\n",
      "linux.docx\n",
      "mongodb certification\n",
      "noyan.txt\n",
      "oracle\n",
      "proje\n",
      "python\n",
      "sayisalsuzgeclerfinal.m\n",
      "slayt2.pptx\n",
      "sqldeveloper\n",
      "sqldeveloper.exe - Kısayol.lnk\n",
      "tetris.apk\n",
      "udacity\n",
      "unity game tutorial\n",
      "Videolarla Güncel Pediatrik Üroloi 2i.docx\n",
      "Videolarla Güncel Pediatrik Üroloji İstanbul.docx\n",
      "Videolarla Güncel Pediatrik Üroloji.ankara docx.docx\n",
      "Videolarla Güncel Pediatrik Üroloji.docx\n",
      "Videolarla Güncel Pediatrik Üroloji.docx 2.docx\n",
      "win war full yapma\n",
      "Yeni Metin Belgesi.txt\n",
      "Yeni Microsoft Office PowerPoint Sunusu.pptx\n"
     ]
    }
   ],
   "source": [
    "# dosyaları ve klasörleri alt alta yazdırdık\n",
    "for i in os.listdir():\n",
    "    print(i)\n"
   ]
  },
  {
   "cell_type": "code",
   "execution_count": 10,
   "metadata": {},
   "outputs": [
    {
     "data": {
      "text/plain": [
       "'C:\\\\Users\\\\user\\\\Desktop'"
      ]
     },
     "execution_count": 10,
     "metadata": {},
     "output_type": "execute_result"
    }
   ],
   "source": [
    "os.getcwd()"
   ]
  },
  {
   "cell_type": "code",
   "execution_count": 11,
   "metadata": {
    "collapsed": true
   },
   "outputs": [],
   "source": [
    "os.mkdir(\"Deneme1\") # Bu fonksiyon , \"klasör\" oluşturmamızı sağlar."
   ]
  },
  {
   "cell_type": "code",
   "execution_count": 12,
   "metadata": {
    "collapsed": true
   },
   "outputs": [],
   "source": [
    "os.makedirs(\"Deneme2/Deneme3\") # Bu fonksiyon iç içe klasör oluşturmamızı sağlar."
   ]
  },
  {
   "cell_type": "code",
   "execution_count": 13,
   "metadata": {
    "collapsed": true
   },
   "outputs": [],
   "source": [
    "#os.rmdir(\"Deneme1\") #Bu fonksiyon, Deneme 1 klasörü silmemizi sağlar.\n",
    "\n",
    "#os.rmdir(\"Deneme2/Deneme3\") # Deneme2 altındaki Deneme3  siler"
   ]
  },
  {
   "cell_type": "code",
   "execution_count": null,
   "metadata": {
    "collapsed": true
   },
   "outputs": [],
   "source": [
    "#os.removedirs(\"Deneme2\")# Bu fonksiyon, iç içe klasörleri silmemizi sağlar. Deneme 2 ve Deneme 2 nin altındaki tüm kalsörleri siler\n",
    "\n",
    "#os.rename(\"test.txt\",\"test2.txt\") # Dosyamızın yeni ismi \"test2.txt\" oldu.\n",
    "\n",
    "print(os.stat(\"test2.txt\"))  # Bu fonksiyon , bir dosyanın değiştirilme zamanı, büyüklüğü gibi özellikleri veren bir stat objesi döner.\n",
    "# st_mtime -> dosyanın değiştirilme zamanı\n",
    "\n",
    "print(datetime.fromtimestamp(os.stat(\"test2.txt\").st_mtime))\n",
    "\n",
    "print(os.walk(\"C:/Users/user/Desktop\")) # generator olarak yarattı\n",
    "\n",
    "for i in os.walk(\"C:/Users/user/Desktop\"): #desktop taki tüm klasörlerin içideki dosyaları gösterdi (rar. dosyalarıda dahil)\n",
    "    print(i)\n",
    "\n",
    "# tüm klasor yolu , klasor ismi ve dosya ismi gösterdi\n",
    "#for klasör_yolu,klasor_isim,dosya_isim in os.walk(\"C:/Users/user/Desktop\"):\n",
    "#    print(\"Şuanki Klasör : {}\\nKlasör İsmi : {}\\nDosya İsim :{}\\n*****************************************\"\n",
    " #         .format(klasör_yolu,klasor_isim,dosya_isim))"
   ]
  }
 ],
 "metadata": {
  "kernelspec": {
   "display_name": "Python 3",
   "language": "python",
   "name": "python3"
  },
  "language_info": {
   "codemirror_mode": {
    "name": "ipython",
    "version": 3
   },
   "file_extension": ".py",
   "mimetype": "text/x-python",
   "name": "python",
   "nbconvert_exporter": "python",
   "pygments_lexer": "ipython3",
   "version": "3.6.1"
  }
 },
 "nbformat": 4,
 "nbformat_minor": 2
}
