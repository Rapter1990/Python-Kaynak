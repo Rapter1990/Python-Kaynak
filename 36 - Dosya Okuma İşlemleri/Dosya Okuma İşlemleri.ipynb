{
 "cells": [
  {
   "cell_type": "code",
   "execution_count": 2,
   "metadata": {},
   "outputs": [],
   "source": [
    "file = open(\"bilgiler.txt\",\"w\")"
   ]
  },
  {
   "cell_type": "code",
   "execution_count": 3,
   "metadata": {
    "collapsed": true
   },
   "outputs": [],
   "source": [
    "file.close()"
   ]
  },
  {
   "cell_type": "code",
   "execution_count": 4,
   "metadata": {
    "collapsed": true
   },
   "outputs": [],
   "source": [
    "file = open(\"bilgiler.txt\",\"r\")"
   ]
  },
  {
   "cell_type": "code",
   "execution_count": 5,
   "metadata": {
    "collapsed": true
   },
   "outputs": [],
   "source": [
    "file.close()"
   ]
  },
  {
   "cell_type": "code",
   "execution_count": 6,
   "metadata": {},
   "outputs": [
    {
     "ename": "FileNotFoundError",
     "evalue": "[Errno 2] No such file or directory: 'bilgiler2.txt'",
     "output_type": "error",
     "traceback": [
      "\u001b[1;31m---------------------------------------------------------------------------\u001b[0m",
      "\u001b[1;31mFileNotFoundError\u001b[0m                         Traceback (most recent call last)",
      "\u001b[1;32m<ipython-input-6-76f3e3c216fb>\u001b[0m in \u001b[0;36m<module>\u001b[1;34m()\u001b[0m\n\u001b[1;32m----> 1\u001b[1;33m \u001b[0mfile\u001b[0m \u001b[1;33m=\u001b[0m \u001b[0mopen\u001b[0m\u001b[1;33m(\u001b[0m\u001b[1;34m\"bilgiler2.txt\"\u001b[0m\u001b[1;33m,\u001b[0m\u001b[1;34m\"r\"\u001b[0m\u001b[1;33m)\u001b[0m\u001b[1;33m\u001b[0m\u001b[0m\n\u001b[0m",
      "\u001b[1;31mFileNotFoundError\u001b[0m: [Errno 2] No such file or directory: 'bilgiler2.txt'"
     ]
    }
   ],
   "source": [
    "file = open(\"bilgiler2.txt\",\"r\")"
   ]
  },
  {
   "cell_type": "code",
   "execution_count": 7,
   "metadata": {},
   "outputs": [
    {
     "name": "stdout",
     "output_type": "stream",
     "text": [
      "Dosya bulunamadı\n"
     ]
    }
   ],
   "source": [
    "try:\n",
    "    file = open(\"bilgiler2.txt\",\"r\")\n",
    "except:\n",
    "    print(\"Dosya bulunamadı\")"
   ]
  },
  {
   "cell_type": "code",
   "execution_count": 11,
   "metadata": {},
   "outputs": [
    {
     "name": "stdout",
     "output_type": "stream",
     "text": [
      "Sercan Noyan Germiyanoğlu\n",
      "\n",
      "S\n",
      "\n",
      "T\n",
      "\n",
      "GFHFG\n",
      "\n",
      "FHDH,HJF\n",
      "\n",
      "    UYGĞPKHİFMJBVMÇMV\n",
      "\n",
      "hjhjğğiiü,ğbx\n"
     ]
    }
   ],
   "source": [
    "file = open(\"bilgiler.txt\",\"r\",encoding=\"utf-8\")\n",
    "\n",
    "for i in file:\n",
    "    print(i)\n",
    "    \n",
    "file.close()"
   ]
  },
  {
   "cell_type": "code",
   "execution_count": 13,
   "metadata": {},
   "outputs": [
    {
     "name": "stdout",
     "output_type": "stream",
     "text": [
      "Sercan Noyan Germiyanoğlu\n",
      "S\n",
      "T\n",
      "GFHFG\n",
      "FHDH,HJF\n",
      "    UYGĞPKHİFMJBVMÇMV\n",
      "hjhjğğiiü,ğbx"
     ]
    }
   ],
   "source": [
    "file = open(\"bilgiler.txt\",\"r\",encoding=\"utf-8\")\n",
    "\n",
    "for i in file:\n",
    "    print(i,end=\"\") # end=\"\" extra boşlukları ortadan kaldırdık\n",
    "    \n",
    "file.close()"
   ]
  },
  {
   "cell_type": "code",
   "execution_count": 14,
   "metadata": {},
   "outputs": [
    {
     "name": "stdout",
     "output_type": "stream",
     "text": [
      "Dosya İçeğigi\n",
      "Sercan Noyan Germiyanoğlu\n",
      "S\n",
      "T\n",
      "GFHFG\n",
      "FHDH,HJF\n",
      "    UYGĞPKHİFMJBVMÇMV\n",
      "hjhjğğiiü,ğbx\n"
     ]
    }
   ],
   "source": [
    "file = open(\"bilgiler.txt\",\"r\",encoding=\"utf-8\")\n",
    "\n",
    "içerik = file.read()\n",
    "\n",
    "print(\"Dosya İçeğigi\\n{}\".format(içerik))"
   ]
  },
  {
   "cell_type": "code",
   "execution_count": 15,
   "metadata": {},
   "outputs": [
    {
     "name": "stdout",
     "output_type": "stream",
     "text": [
      "Dosyanın İçeriği : \n",
      "Sercan Noyan Germiyanoğlu\n",
      "S\n",
      "T\n",
      "GFHFG\n",
      "FHDH,HJF\n",
      "    UYGĞPKHİFMJBVMÇMV\n",
      "hjhjğğiiü,ğbx\n",
      "Dosyanın İçeriği 2 : \n",
      "\n"
     ]
    }
   ],
   "source": [
    "file = open(\"bilgiler.txt\",\"r\",encoding=\"utf-8\")\n",
    "\n",
    "içerik = file.read()\n",
    "\n",
    "print(\"Dosyanın İçeriği : \")\n",
    "print(içerik)\n",
    "\n",
    "içerik2 = file.read()\n",
    "\n",
    "print(\"Dosyanın İçeriği 2 : \")\n",
    "print(içerik2)\n",
    "\n",
    "# dosyanın en sonuna kadar okuduk ve imleç en son dosyanın sonunda kaldı \n",
    "#bu nedenle dosyanın geri kalanında hiçbirşey olmadığı için\n",
    "#2.içerik boş geldi"
   ]
  },
  {
   "cell_type": "code",
   "execution_count": 17,
   "metadata": {},
   "outputs": [
    {
     "name": "stdout",
     "output_type": "stream",
     "text": [
      "Sercan Noyan Germiyanoğlu\n",
      "\n"
     ]
    }
   ],
   "source": [
    "file = open(\"bilgiler.txt\",\"r\",encoding=\"utf-8\")\n",
    "\n",
    "print(file.readline())\n",
    "file.close()"
   ]
  },
  {
   "cell_type": "code",
   "execution_count": 18,
   "metadata": {},
   "outputs": [
    {
     "name": "stdout",
     "output_type": "stream",
     "text": [
      "Sercan Noyan Germiyanoğlu\n",
      "\n",
      "S\n",
      "\n",
      "T\n",
      "\n",
      "GFHFG\n",
      "\n",
      "-------------------\n"
     ]
    }
   ],
   "source": [
    "file = open(\"bilgiler.txt\",\"r\",encoding=\"utf-8\")\n",
    "\n",
    "print(file.readline())\n",
    "print(file.readline())\n",
    "print(file.readline())\n",
    "print(file.readline())\n",
    "print(\"-------------------\")\n",
    "file.close()"
   ]
  },
  {
   "cell_type": "code",
   "execution_count": 19,
   "metadata": {},
   "outputs": [
    {
     "data": {
      "text/plain": [
       "['Sercan Noyan Germiyanoğlu\\n',\n",
       " 'S\\n',\n",
       " 'T\\n',\n",
       " 'GFHFG\\n',\n",
       " 'FHDH,HJF\\n',\n",
       " '    UYGĞPKHİFMJBVMÇMV\\n',\n",
       " 'hjhjğğiiü,ğbx']"
      ]
     },
     "execution_count": 19,
     "metadata": {},
     "output_type": "execute_result"
    }
   ],
   "source": [
    "file = open(\"bilgiler.txt\",\"r\",encoding=\"utf-8\")\n",
    "file.readlines()"
   ]
  },
  {
   "cell_type": "code",
   "execution_count": 20,
   "metadata": {
    "collapsed": true
   },
   "outputs": [],
   "source": [
    "file.close()"
   ]
  },
  {
   "cell_type": "code",
   "execution_count": 21,
   "metadata": {},
   "outputs": [
    {
     "name": "stdout",
     "output_type": "stream",
     "text": [
      "['Sercan Noyan Germiyanoğlu\\n', 'S\\n', 'T\\n', 'GFHFG\\n', 'FHDH,HJF\\n', '    UYGĞPKHİFMJBVMÇMV\\n', 'hjhjğğiiü,ğbx']\n"
     ]
    }
   ],
   "source": [
    "file = open(\"bilgiler.txt\",\"r\",encoding=\"utf-8\")\n",
    "liste = file.readlines()\n",
    "print(liste)\n",
    "file.close()"
   ]
  },
  {
   "cell_type": "code",
   "execution_count": null,
   "metadata": {
    "collapsed": true
   },
   "outputs": [],
   "source": []
  }
 ],
 "metadata": {
  "kernelspec": {
   "display_name": "Python 3",
   "language": "python",
   "name": "python3"
  },
  "language_info": {
   "codemirror_mode": {
    "name": "ipython",
    "version": 3
   },
   "file_extension": ".py",
   "mimetype": "text/x-python",
   "name": "python",
   "nbconvert_exporter": "python",
   "pygments_lexer": "ipython3",
   "version": "3.7.1"
  }
 },
 "nbformat": 4,
 "nbformat_minor": 2
}
