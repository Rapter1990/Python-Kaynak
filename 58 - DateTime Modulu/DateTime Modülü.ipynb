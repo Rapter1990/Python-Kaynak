{
 "cells": [
  {
   "cell_type": "code",
   "execution_count": 1,
   "metadata": {
    "collapsed": true
   },
   "outputs": [],
   "source": [
    "from datetime import datetime"
   ]
  },
  {
   "cell_type": "code",
   "execution_count": 2,
   "metadata": {},
   "outputs": [
    {
     "data": {
      "text/plain": [
       "['__add__',\n",
       " '__class__',\n",
       " '__delattr__',\n",
       " '__dir__',\n",
       " '__doc__',\n",
       " '__eq__',\n",
       " '__format__',\n",
       " '__ge__',\n",
       " '__getattribute__',\n",
       " '__gt__',\n",
       " '__hash__',\n",
       " '__init__',\n",
       " '__init_subclass__',\n",
       " '__le__',\n",
       " '__lt__',\n",
       " '__ne__',\n",
       " '__new__',\n",
       " '__radd__',\n",
       " '__reduce__',\n",
       " '__reduce_ex__',\n",
       " '__repr__',\n",
       " '__rsub__',\n",
       " '__setattr__',\n",
       " '__sizeof__',\n",
       " '__str__',\n",
       " '__sub__',\n",
       " '__subclasshook__',\n",
       " 'astimezone',\n",
       " 'combine',\n",
       " 'ctime',\n",
       " 'date',\n",
       " 'day',\n",
       " 'dst',\n",
       " 'fold',\n",
       " 'fromordinal',\n",
       " 'fromtimestamp',\n",
       " 'hour',\n",
       " 'isocalendar',\n",
       " 'isoformat',\n",
       " 'isoweekday',\n",
       " 'max',\n",
       " 'microsecond',\n",
       " 'min',\n",
       " 'minute',\n",
       " 'month',\n",
       " 'now',\n",
       " 'replace',\n",
       " 'resolution',\n",
       " 'second',\n",
       " 'strftime',\n",
       " 'strptime',\n",
       " 'time',\n",
       " 'timestamp',\n",
       " 'timetuple',\n",
       " 'timetz',\n",
       " 'today',\n",
       " 'toordinal',\n",
       " 'tzinfo',\n",
       " 'tzname',\n",
       " 'utcfromtimestamp',\n",
       " 'utcnow',\n",
       " 'utcoffset',\n",
       " 'utctimetuple',\n",
       " 'weekday',\n",
       " 'year']"
      ]
     },
     "execution_count": 2,
     "metadata": {},
     "output_type": "execute_result"
    }
   ],
   "source": [
    "dir(datetime)"
   ]
  },
  {
   "cell_type": "code",
   "execution_count": 3,
   "metadata": {},
   "outputs": [
    {
     "name": "stdout",
     "output_type": "stream",
     "text": [
      "2017-09-30 21:33:20.448164\n",
      "2017\n",
      "9\n",
      "452168\n",
      "21\n",
      "33\n",
      "20\n"
     ]
    }
   ],
   "source": [
    "print(datetime.now()) # şu an ki zamanı ekranda gösterir.\n",
    "\n",
    "şu_an = datetime.now()\n",
    "print(şu_an.year) # şu an ki yılı gösterir.\n",
    "print(şu_an.month) #şu an ki ayı gösterir.\n",
    "print(şu_an.microsecond) #şu anki zamanı microsecond (milisaniye olarak gösterir.)\n",
    "print(şu_an.hour) #şu an ki zamanın saatini gösterir.\n",
    "print(şu_an.minute) #şu an ki zamanın dakika gösterir.\n",
    "print(şu_an.second) #şu an ki zamanın saniye gösterir."
   ]
  },
  {
   "cell_type": "code",
   "execution_count": 4,
   "metadata": {},
   "outputs": [
    {
     "name": "stdout",
     "output_type": "stream",
     "text": [
      "Sat Sep 30 21:33:20 2017\n"
     ]
    }
   ],
   "source": [
    "print(datetime.ctime(şu_an)) # şu ank zamanı güzel göstermek için kullanılır."
   ]
  },
  {
   "cell_type": "code",
   "execution_count": 5,
   "metadata": {},
   "outputs": [
    {
     "name": "stdout",
     "output_type": "stream",
     "text": [
      "2017\n"
     ]
    }
   ],
   "source": [
    "print(datetime.strftime(şu_an,\"%Y\"))"
   ]
  },
  {
   "cell_type": "code",
   "execution_count": 6,
   "metadata": {},
   "outputs": [
    {
     "name": "stdout",
     "output_type": "stream",
     "text": [
      "September 2017\n"
     ]
    }
   ],
   "source": [
    "print(datetime.strftime(şu_an,\"%B %Y\")) # şu an ki ay ve yılı gösterir."
   ]
  },
  {
   "cell_type": "code",
   "execution_count": 7,
   "metadata": {},
   "outputs": [
    {
     "name": "stdout",
     "output_type": "stream",
     "text": [
      "Turkish_Turkey.1254\n"
     ]
    }
   ],
   "source": [
    "# şu an ki konumu değiştirmek için \n",
    "import locale\n",
    "\n",
    "print(locale.setlocale(locale.LC_ALL,\"\"))"
   ]
  },
  {
   "cell_type": "code",
   "execution_count": 8,
   "metadata": {},
   "outputs": [
    {
     "name": "stdout",
     "output_type": "stream",
     "text": [
      "1506796400.452168\n"
     ]
    }
   ],
   "source": [
    "saniye = datetime.timestamp(şu_an) #şu anı saniyeye çevirdik\n",
    "print(saniye)"
   ]
  },
  {
   "cell_type": "code",
   "execution_count": 9,
   "metadata": {},
   "outputs": [
    {
     "name": "stdout",
     "output_type": "stream",
     "text": [
      "2017-09-30 21:33:20.452168\n"
     ]
    }
   ],
   "source": [
    "zaman = datetime.fromtimestamp(saniye) # saniyeyi zamana çevirdik\n",
    "print(zaman)"
   ]
  },
  {
   "cell_type": "code",
   "execution_count": 15,
   "metadata": {},
   "outputs": [
    {
     "name": "stdout",
     "output_type": "stream",
     "text": [
      "10017 days, 21:33:20.452168\n",
      "10017\n",
      "77600\n",
      "452168\n"
     ]
    }
   ],
   "source": [
    "# iki tarih arasındaki gün saniye ve milli saniyeyi bulma\n",
    "doğum_tarihi = datetime(1990,4,28)\n",
    "\n",
    "fark = şu_an - doğum_tarihi\n",
    "\n",
    "print(fark) #gün ve zaman olarak verir.\n",
    "print(fark.days) # gün verir\n",
    "print(fark.seconds) # saatin zamanını verir\n",
    "print(fark.microseconds) #milli saniyeyi verir"
   ]
  },
  {
   "cell_type": "code",
   "execution_count": null,
   "metadata": {
    "collapsed": true
   },
   "outputs": [],
   "source": []
  }
 ],
 "metadata": {
  "kernelspec": {
   "display_name": "Python 3",
   "language": "python",
   "name": "python3"
  },
  "language_info": {
   "codemirror_mode": {
    "name": "ipython",
    "version": 3
   },
   "file_extension": ".py",
   "mimetype": "text/x-python",
   "name": "python",
   "nbconvert_exporter": "python",
   "pygments_lexer": "ipython3",
   "version": "3.6.1"
  }
 },
 "nbformat": 4,
 "nbformat_minor": 2
}
