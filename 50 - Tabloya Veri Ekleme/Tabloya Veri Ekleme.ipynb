{
 "cells": [
  {
   "cell_type": "markdown",
   "metadata": {},
   "source": [
    "import sqlite3 # Sqlite'yı dahil ediyoruz\n",
    "\n",
    "con = sqlite3.connect(\"kütüphane.db\") # Tabloya bağlanıyoruz\n",
    "\n",
    "cursor = con.cursor() # cursor isimli değişken veritabanı üzerinde işlem yapmak için kullanacağımız imleç\n",
    "\n",
    "def tablo_olustur():\n",
    "    cursor.execute(\"\"\"CREATE TABLE IF NOT EXISTS kitaplık (isim TEXT,\n",
    "                   Yazar TEXT,Yayınevi TEXT,Sayfa_Sayisi INT)\"\"\")\n",
    "    con.commit() # yukarıdaki kodun çalışması ve kütüphan.db eklenmesi için bu kodu yazdık\n",
    "\n",
    "\n",
    "def veri_ekle():\n",
    "    cursor.execute(\"\"\"INSERT INTO kitaplık VALUES ('İstanbul Hatırası',\n",
    "'Ahmet Ümit','Everest',561)\n",
    "\"\"\")\n",
    "    con.commit()\n",
    "\n",
    "def veri_ekle2(isim,yazar,yayınevi,sayfa_sayısı):\n",
    "    cursor.execute(\"INSERT INTO kitaplık VALUES (?,?,?,?)\",(isim,yazar,yayınevi,sayfa_sayısı))\n",
    "    con.commit()\n",
    "\n",
    "isim = input(\"İsim :\")\n",
    "yazar = input(\"Yazar :\")\n",
    "yayınevi = input(\"Yayın Evi :\")\n",
    "sayfa_sayısı = int(input(\"Sayfa Sayısı :\"))\n",
    "\n",
    "veri_ekle2(isim,yazar,yayınevi,sayfa_sayısı)\n",
    "\n",
    "con.close() # Veritabanı bağlantısını kapatma\n"
   ]
  },
  {
   "cell_type": "markdown",
   "metadata": {},
   "source": [
    "** Veritabanına veri ekleme ** "
   ]
  },
  {
   "cell_type": "code",
   "execution_count": null,
   "metadata": {
    "collapsed": true
   },
   "outputs": [],
   "source": []
  }
 ],
 "metadata": {
  "kernelspec": {
   "display_name": "Python 3",
   "language": "python",
   "name": "python3"
  },
  "language_info": {
   "codemirror_mode": {
    "name": "ipython",
    "version": 3
   },
   "file_extension": ".py",
   "mimetype": "text/x-python",
   "name": "python",
   "nbconvert_exporter": "python",
   "pygments_lexer": "ipython3",
   "version": "3.6.1"
  }
 },
 "nbformat": 4,
 "nbformat_minor": 2
}
