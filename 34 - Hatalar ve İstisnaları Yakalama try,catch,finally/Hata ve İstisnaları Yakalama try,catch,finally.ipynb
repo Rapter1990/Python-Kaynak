{
 "cells": [
  {
   "cell_type": "code",
   "execution_count": 1,
   "metadata": {},
   "outputs": [
    {
     "ename": "ValueError",
     "evalue": "invalid literal for int() with base 10: 'asasasasas12345654'",
     "output_type": "error",
     "traceback": [
      "\u001b[1;31m---------------------------------------------------------------------------\u001b[0m",
      "\u001b[1;31mValueError\u001b[0m                                Traceback (most recent call last)",
      "\u001b[1;32m<ipython-input-1-ff13a3831174>\u001b[0m in \u001b[0;36m<module>\u001b[1;34m()\u001b[0m\n\u001b[1;32m----> 1\u001b[1;33m \u001b[0ma\u001b[0m \u001b[1;33m=\u001b[0m \u001b[0mint\u001b[0m\u001b[1;33m(\u001b[0m\u001b[1;34m\"asasasasas12345654\"\u001b[0m\u001b[1;33m)\u001b[0m\u001b[1;33m\u001b[0m\u001b[0m\n\u001b[0m",
      "\u001b[1;31mValueError\u001b[0m: invalid literal for int() with base 10: 'asasasasas12345654'"
     ]
    }
   ],
   "source": [
    "a = int(\"asasasasas12345654\")"
   ]
  },
  {
   "cell_type": "code",
   "execution_count": 2,
   "metadata": {},
   "outputs": [
    {
     "name": "stdout",
     "output_type": "stream",
     "text": [
      "Hata oluştu\n",
      "Blok sona erdi\n"
     ]
    }
   ],
   "source": [
    "try:\n",
    "    a = int(\"asasasasas12345654\")\n",
    "    print(\"Program Burada\")\n",
    "except:\n",
    "    print(\"Hata oluştu\")\n",
    "print(\"Blok sona erdi\")"
   ]
  },
  {
   "cell_type": "code",
   "execution_count": 3,
   "metadata": {},
   "outputs": [
    {
     "name": "stdout",
     "output_type": "stream",
     "text": [
      "Program Burada\n",
      "Blok sona erdi\n"
     ]
    }
   ],
   "source": [
    "try:\n",
    "    a = int(\"23\")\n",
    "    print(\"Program Burada\")\n",
    "except:\n",
    "    print(\"Hata oluştu\")\n",
    "print(\"Blok sona erdi\")"
   ]
  },
  {
   "cell_type": "code",
   "execution_count": 4,
   "metadata": {},
   "outputs": [
    {
     "name": "stdout",
     "output_type": "stream",
     "text": [
      "Program Burada\n",
      "Blok sona erdi\n"
     ]
    }
   ],
   "source": [
    "try:\n",
    "    a = int(\"23\")\n",
    "    print(\"Program Burada\")\n",
    "except ValueError:\n",
    "    print(\"Hata oluştu\")\n",
    "print(\"Blok sona erdi\")"
   ]
  },
  {
   "cell_type": "code",
   "execution_count": 6,
   "metadata": {},
   "outputs": [
    {
     "ename": "ZeroDivisionError",
     "evalue": "division by zero",
     "output_type": "error",
     "traceback": [
      "\u001b[1;31m---------------------------------------------------------------------------\u001b[0m",
      "\u001b[1;31mZeroDivisionError\u001b[0m                         Traceback (most recent call last)",
      "\u001b[1;32m<ipython-input-6-b27bcd1d85f2>\u001b[0m in \u001b[0;36m<module>\u001b[1;34m()\u001b[0m\n\u001b[1;32m----> 1\u001b[1;33m \u001b[0mprint\u001b[0m\u001b[1;33m(\u001b[0m\u001b[1;36m2\u001b[0m\u001b[1;33m/\u001b[0m\u001b[1;36m0\u001b[0m\u001b[1;33m)\u001b[0m\u001b[1;33m\u001b[0m\u001b[0m\n\u001b[0m",
      "\u001b[1;31mZeroDivisionError\u001b[0m: division by zero"
     ]
    }
   ],
   "source": [
    "print(2/0)"
   ]
  },
  {
   "cell_type": "code",
   "execution_count": 7,
   "metadata": {},
   "outputs": [
    {
     "name": "stdout",
     "output_type": "stream",
     "text": [
      "1. Sayıyı Girin : 2\n",
      "1. Sayıyı Girin : 0\n",
      "Bir Sayı 0'a bölünmez....\n",
      "Bloklar sona erdi....\n"
     ]
    }
   ],
   "source": [
    "try:\n",
    "    sayi1 = int(input(\"1. Sayıyı Girin : \"))\n",
    "    sayi2 = int(input(\"1. Sayıyı Girin : \"))\n",
    "    print(sayi1/sayi2)\n",
    "except ValueError:\n",
    "    print(\"Lüften doğru inputları giriniz\")\n",
    "except ZeroDivisionError:\n",
    "    print(\"Bir Sayı 0'a bölünmez....\")\n",
    "print(\"Bloklar sona erdi....\")"
   ]
  },
  {
   "cell_type": "code",
   "execution_count": 8,
   "metadata": {},
   "outputs": [
    {
     "name": "stdout",
     "output_type": "stream",
     "text": [
      "1. Sayıyı Girin : 12\n",
      "1. Sayıyı Girin : asa\n",
      "Lüften doğru inputları giriniz\n",
      "Bloklar sona erdi....\n"
     ]
    }
   ],
   "source": [
    "try:\n",
    "    sayi1 = int(input(\"1. Sayıyı Girin : \"))\n",
    "    sayi2 = int(input(\"1. Sayıyı Girin : \"))\n",
    "    print(sayi1/sayi2)\n",
    "except ValueError:\n",
    "    print(\"Lüften doğru inputları giriniz\")\n",
    "except ZeroDivisionError:\n",
    "    print(\"Bir Sayı 0'a bölünmez....\")\n",
    "print(\"Bloklar sona erdi....\")"
   ]
  },
  {
   "cell_type": "code",
   "execution_count": 9,
   "metadata": {},
   "outputs": [
    {
     "name": "stdout",
     "output_type": "stream",
     "text": [
      "1. Sayıyı Girin : 12\n",
      "1. Sayıyı Girin : 3\n",
      "4.0\n",
      "Bloklar sona erdi....\n"
     ]
    }
   ],
   "source": [
    "try:\n",
    "    sayi1 = int(input(\"1. Sayıyı Girin : \"))\n",
    "    sayi2 = int(input(\"1. Sayıyı Girin : \"))\n",
    "    print(sayi1/sayi2)\n",
    "except ValueError:\n",
    "    print(\"Lüften doğru inputları giriniz\")\n",
    "except ZeroDivisionError:\n",
    "    print(\"Bir Sayı 0'a bölünmez....\")\n",
    "print(\"Bloklar sona erdi....\")"
   ]
  },
  {
   "cell_type": "code",
   "execution_count": 10,
   "metadata": {},
   "outputs": [
    {
     "name": "stdout",
     "output_type": "stream",
     "text": [
      "1. Sayıyı Girin : asasa\n",
      "ValueError veya ZeroDivisionError Hatası\n",
      "Bloklar sona erdi....\n"
     ]
    }
   ],
   "source": [
    "try:\n",
    "    sayi1 = int(input(\"1. Sayıyı Girin : \"))\n",
    "    sayi2 = int(input(\"1. Sayıyı Girin : \"))\n",
    "    print(sayi1/sayi2)\n",
    "except (ValueError,ZeroDivisionError):\n",
    "    print(\"ValueError veya ZeroDivisionError Hatası\")\n",
    "print(\"Bloklar sona erdi....\")"
   ]
  },
  {
   "cell_type": "code",
   "execution_count": 11,
   "metadata": {},
   "outputs": [
    {
     "name": "stdout",
     "output_type": "stream",
     "text": [
      "1. Sayıyı Girin : 12\n",
      "1. Sayıyı Girin : 4\n",
      "3.0\n",
      "Burası Çalıştı\n",
      "Bloklar sona erdi....\n"
     ]
    }
   ],
   "source": [
    "try:\n",
    "    sayi1 = int(input(\"1. Sayıyı Girin : \"))\n",
    "    sayi2 = int(input(\"1. Sayıyı Girin : \"))\n",
    "    print(sayi1/sayi2)\n",
    "except ValueError:\n",
    "    print(\"Lüften doğru inputları giriniz\")\n",
    "except ZeroDivisionError:\n",
    "    print(\"Bir Sayı 0'a bölünmez....\")\n",
    "finally:\n",
    "    print(\"Burası Çalıştı\")\n",
    "print(\"Bloklar sona erdi....\")"
   ]
  },
  {
   "cell_type": "code",
   "execution_count": 12,
   "metadata": {},
   "outputs": [
    {
     "name": "stdout",
     "output_type": "stream",
     "text": [
      "1. Sayıyı Girin : 12\n",
      "1. Sayıyı Girin : asas\n",
      "Lüften doğru inputları giriniz\n",
      "Burası Çalıştı\n",
      "Bloklar sona erdi....\n"
     ]
    }
   ],
   "source": [
    "try:\n",
    "    sayi1 = int(input(\"1. Sayıyı Girin : \"))\n",
    "    sayi2 = int(input(\"1. Sayıyı Girin : \"))\n",
    "    print(sayi1/sayi2)\n",
    "except ValueError:\n",
    "    print(\"Lüften doğru inputları giriniz\")\n",
    "except ZeroDivisionError:\n",
    "    print(\"Bir Sayı 0'a bölünmez....\")\n",
    "finally:\n",
    "    print(\"Burası Çalıştı\")\n",
    "print(\"Bloklar sona erdi....\")"
   ]
  },
  {
   "cell_type": "code",
   "execution_count": 13,
   "metadata": {
    "collapsed": true
   },
   "outputs": [],
   "source": [
    "def terscevir(s):\n",
    "    if(type(s) != str): #raise hata fırlatma için kullanılır java daki throw\n",
    "        raise ValueError(\"Lüften bir string giriniz..\")\n",
    "    else:\n",
    "        return s[::-1]\n"
   ]
  },
  {
   "cell_type": "code",
   "execution_count": 14,
   "metadata": {},
   "outputs": [
    {
     "name": "stdout",
     "output_type": "stream",
     "text": [
      "ulğonayimreG nayoN nacreS\n"
     ]
    }
   ],
   "source": [
    "print(terscevir(\"Sercan Noyan Germiyanoğlu\"))"
   ]
  },
  {
   "cell_type": "code",
   "execution_count": 15,
   "metadata": {},
   "outputs": [
    {
     "ename": "ValueError",
     "evalue": "Lüften bir string giriniz..",
     "output_type": "error",
     "traceback": [
      "\u001b[1;31m---------------------------------------------------------------------------\u001b[0m",
      "\u001b[1;31mValueError\u001b[0m                                Traceback (most recent call last)",
      "\u001b[1;32m<ipython-input-15-affc1a0b50fd>\u001b[0m in \u001b[0;36m<module>\u001b[1;34m()\u001b[0m\n\u001b[1;32m----> 1\u001b[1;33m \u001b[0mprint\u001b[0m\u001b[1;33m(\u001b[0m\u001b[0mterscevir\u001b[0m\u001b[1;33m(\u001b[0m\u001b[1;36m12\u001b[0m\u001b[1;33m)\u001b[0m\u001b[1;33m)\u001b[0m\u001b[1;33m\u001b[0m\u001b[0m\n\u001b[0m",
      "\u001b[1;32m<ipython-input-13-0c6a93416d62>\u001b[0m in \u001b[0;36mterscevir\u001b[1;34m(s)\u001b[0m\n\u001b[0;32m      1\u001b[0m \u001b[1;32mdef\u001b[0m \u001b[0mterscevir\u001b[0m\u001b[1;33m(\u001b[0m\u001b[0ms\u001b[0m\u001b[1;33m)\u001b[0m\u001b[1;33m:\u001b[0m\u001b[1;33m\u001b[0m\u001b[0m\n\u001b[0;32m      2\u001b[0m     \u001b[1;32mif\u001b[0m\u001b[1;33m(\u001b[0m\u001b[0mtype\u001b[0m\u001b[1;33m(\u001b[0m\u001b[0ms\u001b[0m\u001b[1;33m)\u001b[0m \u001b[1;33m!=\u001b[0m \u001b[0mstr\u001b[0m\u001b[1;33m)\u001b[0m\u001b[1;33m:\u001b[0m \u001b[1;31m#raise hata fırlatma için kullanılır java daki throw\u001b[0m\u001b[1;33m\u001b[0m\u001b[0m\n\u001b[1;32m----> 3\u001b[1;33m         \u001b[1;32mraise\u001b[0m \u001b[0mValueError\u001b[0m\u001b[1;33m(\u001b[0m\u001b[1;34m\"Lüften bir string giriniz..\"\u001b[0m\u001b[1;33m)\u001b[0m\u001b[1;33m\u001b[0m\u001b[0m\n\u001b[0m\u001b[0;32m      4\u001b[0m     \u001b[1;32melse\u001b[0m\u001b[1;33m:\u001b[0m\u001b[1;33m\u001b[0m\u001b[0m\n\u001b[0;32m      5\u001b[0m         \u001b[1;32mreturn\u001b[0m \u001b[0ms\u001b[0m\u001b[1;33m[\u001b[0m\u001b[1;33m:\u001b[0m\u001b[1;33m:\u001b[0m\u001b[1;33m-\u001b[0m\u001b[1;36m1\u001b[0m\u001b[1;33m]\u001b[0m\u001b[1;33m\u001b[0m\u001b[0m\n",
      "\u001b[1;31mValueError\u001b[0m: Lüften bir string giriniz.."
     ]
    }
   ],
   "source": [
    "print(terscevir(12))"
   ]
  },
  {
   "cell_type": "code",
   "execution_count": 16,
   "metadata": {},
   "outputs": [
    {
     "name": "stdout",
     "output_type": "stream",
     "text": [
      "Fonksiyon hata verdi...\n"
     ]
    }
   ],
   "source": [
    "try:\n",
    "    print(terscevir(12))\n",
    "except ValueError:\n",
    "    print(\"Fonksiyon hata verdi...\")"
   ]
  },
  {
   "cell_type": "code",
   "execution_count": null,
   "metadata": {
    "collapsed": true
   },
   "outputs": [],
   "source": []
  }
 ],
 "metadata": {
  "kernelspec": {
   "display_name": "Python 3",
   "language": "python",
   "name": "python3"
  },
  "language_info": {
   "codemirror_mode": {
    "name": "ipython",
    "version": 3
   },
   "file_extension": ".py",
   "mimetype": "text/x-python",
   "name": "python",
   "nbconvert_exporter": "python",
   "pygments_lexer": "ipython3",
   "version": "3.7.1"
  }
 },
 "nbformat": 4,
 "nbformat_minor": 2
}
