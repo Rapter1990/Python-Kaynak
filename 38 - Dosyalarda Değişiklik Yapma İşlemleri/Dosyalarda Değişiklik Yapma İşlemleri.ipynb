{
 "cells": [
  {
   "cell_type": "code",
   "execution_count": 14,
   "metadata": {},
   "outputs": [],
   "source": [
    "with open(\"bilgiler.txt\",\"w\",encoding=\"utf-8\") as file:\n",
    "    file.write(\"Napıyon\\nbe\\nya\\nSercan\\nNoyan\\nGermiyanoğlu\")"
   ]
  },
  {
   "cell_type": "code",
   "execution_count": 15,
   "metadata": {},
   "outputs": [
    {
     "name": "stdout",
     "output_type": "stream",
     "text": [
      "Napıyon\n",
      "be\n",
      "ya\n",
      "Sercan\n",
      "Noyan\n",
      "Germiyanoğlu\n"
     ]
    }
   ],
   "source": [
    "with open(\"bilgiler.txt\",\"r+\",encoding=\"utf-8\") as file: # r+ hem okuma hem yazma\n",
    "    print(file.read())"
   ]
  },
  {
   "cell_type": "code",
   "execution_count": 12,
   "metadata": {
    "collapsed": true
   },
   "outputs": [],
   "source": [
    "with open(\"bilgiler.txt\",\"r+\",encoding=\"utf-8\") as file:\n",
    "    file.seek(16)\n",
    "    file.write(\"Deneme\")\n",
    "    "
   ]
  },
  {
   "cell_type": "code",
   "execution_count": 16,
   "metadata": {},
   "outputs": [
    {
     "name": "stdout",
     "output_type": "stream",
     "text": [
      "Napıyon\n",
      "be\n",
      "ya\n",
      "Sercan\n",
      "Noyan\n",
      "Germiyanoğlu\n"
     ]
    }
   ],
   "source": [
    "with open(\"bilgiler.txt\",\"r+\",encoding=\"utf-8\") as file:\n",
    "    print(file.read())"
   ]
  },
  {
   "cell_type": "code",
   "execution_count": 17,
   "metadata": {
    "collapsed": true
   },
   "outputs": [],
   "source": [
    "with open(\"bilgiler.txt\",\"a\",encoding=\"utf-8\") as file:\n",
    "    file.write(\"IPPavlova\\n\")"
   ]
  },
  {
   "cell_type": "code",
   "execution_count": 18,
   "metadata": {},
   "outputs": [
    {
     "name": "stdout",
     "output_type": "stream",
     "text": [
      "Napıyon\n",
      "be\n",
      "ya\n",
      "Sercan\n",
      "Noyan\n",
      "GermiyanoğluIPPavlova\n",
      "\n"
     ]
    }
   ],
   "source": [
    "with open(\"bilgiler.txt\",\"r+\",encoding=\"utf-8\") as file:\n",
    "    print(file.read())"
   ]
  },
  {
   "cell_type": "code",
   "execution_count": 19,
   "metadata": {
    "collapsed": true
   },
   "outputs": [],
   "source": [
    "with open(\"bilgiler.txt\",\"a\",encoding=\"utf-8\") as file:\n",
    "    file.write(\"\\nDinamo\")"
   ]
  },
  {
   "cell_type": "code",
   "execution_count": 20,
   "metadata": {},
   "outputs": [
    {
     "name": "stdout",
     "output_type": "stream",
     "text": [
      "Napıyon\n",
      "be\n",
      "ya\n",
      "Sercan\n",
      "Noyan\n",
      "GermiyanoğluIPPavlova\n",
      "\n",
      "Dinamo\n"
     ]
    }
   ],
   "source": [
    "with open(\"bilgiler.txt\",\"r+\",encoding=\"utf-8\") as file:\n",
    "    print(file.read())"
   ]
  },
  {
   "cell_type": "code",
   "execution_count": 21,
   "metadata": {
    "collapsed": true
   },
   "outputs": [],
   "source": [
    "with open(\"bilgiler.txt\",\"a\",encoding=\"utf-8\") as file:\n",
    "    file.write(\"\\nSemih\")"
   ]
  },
  {
   "cell_type": "code",
   "execution_count": 22,
   "metadata": {},
   "outputs": [
    {
     "name": "stdout",
     "output_type": "stream",
     "text": [
      "Napıyon\n",
      "be\n",
      "ya\n",
      "Sercan\n",
      "Noyan\n",
      "GermiyanoğluIPPavlova\n",
      "\n",
      "Dinamo\n",
      "Semih\n"
     ]
    }
   ],
   "source": [
    "with open(\"bilgiler.txt\",\"r+\",encoding=\"utf-8\") as file:\n",
    "    print(file.read())"
   ]
  },
  {
   "cell_type": "code",
   "execution_count": 24,
   "metadata": {},
   "outputs": [],
   "source": [
    "with open(\"bilgiler.txt\",\"r+\",encoding=\"utf-8\") as file:\n",
    "    içerik = file.read()\n",
    "    içerik = \"GGGGGGGGGG\\n\" + içerik\n",
    "    file.seek(0)\n",
    "    file.write(içerik)"
   ]
  },
  {
   "cell_type": "code",
   "execution_count": 25,
   "metadata": {},
   "outputs": [
    {
     "name": "stdout",
     "output_type": "stream",
     "text": [
      "GGGGGGGGGG\n",
      "Napıyon\n",
      "be\n",
      "ya\n",
      "Sercan\n",
      "Noyan\n",
      "GermiyanoğluIPPavlova\n",
      "\n",
      "Dinamo\n",
      "Semih\n"
     ]
    }
   ],
   "source": [
    "with open(\"bilgiler.txt\",\"r+\",encoding=\"utf-8\") as file:\n",
    "    print(file.read())"
   ]
  },
  {
   "cell_type": "code",
   "execution_count": 27,
   "metadata": {},
   "outputs": [
    {
     "name": "stdout",
     "output_type": "stream",
     "text": [
      "['GGGGGGGGGG\\n', 'Napıyon\\n', 'be\\n', 'ya\\n', 'Sercan\\n', 'Noyan\\n', 'GermiyanoğluIPPavlova\\n', '\\n', 'Dinamo\\n', 'Semih']\n"
     ]
    }
   ],
   "source": [
    "with open(\"bilgiler.txt\",\"r+\",encoding=\"utf-8\") as file:\n",
    "    liste = file.readlines()\n",
    "    print(liste)"
   ]
  },
  {
   "cell_type": "code",
   "execution_count": 29,
   "metadata": {},
   "outputs": [],
   "source": [
    "with open(\"bilgiler.txt\",\"r+\",encoding=\"utf-8\") as file:\n",
    "    liste = file.readlines()\n",
    "    liste.insert(3,\"Ahmet\\n\")\n",
    "    file.seek(0)\n",
    "    for i in liste:\n",
    "        file.write(i)"
   ]
  },
  {
   "cell_type": "code",
   "execution_count": 30,
   "metadata": {},
   "outputs": [
    {
     "name": "stdout",
     "output_type": "stream",
     "text": [
      "GGGGGGGGGG\n",
      "Napıyon\n",
      "be\n",
      "Ahmet\n",
      "ya\n",
      "Sercan\n",
      "Noyan\n",
      "GermiyanoğluIPPavlova\n",
      "\n",
      "Dinamo\n",
      "Semih\n"
     ]
    }
   ],
   "source": [
    "with open(\"bilgiler.txt\",\"r+\",encoding=\"utf-8\") as file:\n",
    "    print(file.read())"
   ]
  },
  {
   "cell_type": "code",
   "execution_count": 31,
   "metadata": {
    "collapsed": true
   },
   "outputs": [],
   "source": [
    "with open(\"bilgiler.txt\",\"r+\",encoding=\"utf-8\") as file:\n",
    "    liste = file.readlines()\n",
    "    liste.insert(3,\"Hasan\\n\")\n",
    "    file.seek(0)\n",
    "    file.writelines(liste)"
   ]
  },
  {
   "cell_type": "code",
   "execution_count": 32,
   "metadata": {},
   "outputs": [
    {
     "name": "stdout",
     "output_type": "stream",
     "text": [
      "GGGGGGGGGG\n",
      "Napıyon\n",
      "be\n",
      "Hasan\n",
      "Ahmet\n",
      "ya\n",
      "Sercan\n",
      "Noyan\n",
      "GermiyanoğluIPPavlova\n",
      "\n",
      "Dinamo\n",
      "Semih\n"
     ]
    }
   ],
   "source": [
    "with open(\"bilgiler.txt\",\"r+\",encoding=\"utf-8\") as file:\n",
    "    print(file.read())"
   ]
  },
  {
   "cell_type": "code",
   "execution_count": null,
   "metadata": {
    "collapsed": true
   },
   "outputs": [],
   "source": []
  }
 ],
 "metadata": {
  "kernelspec": {
   "display_name": "Python 3",
   "language": "python",
   "name": "python3"
  },
  "language_info": {
   "codemirror_mode": {
    "name": "ipython",
    "version": 3
   },
   "file_extension": ".py",
   "mimetype": "text/x-python",
   "name": "python",
   "nbconvert_exporter": "python",
   "pygments_lexer": "ipython3",
   "version": "3.7.1"
  }
 },
 "nbformat": 4,
 "nbformat_minor": 2
}
