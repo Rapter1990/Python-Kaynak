{
 "cells": [
  {
   "cell_type": "code",
   "execution_count": 3,
   "metadata": {},
   "outputs": [
    {
     "name": "stdout",
     "output_type": "stream",
     "text": [
      "i ' nin değeri : 0\n",
      "i ' nin değeri : 1\n",
      "i ' nin değeri : 2\n",
      "i ' nin değeri : 3\n",
      "i ' nin değeri : 4\n",
      "i ' nin değeri : 5\n",
      "i ' nin değeri : 6\n",
      "i ' nin değeri : 7\n",
      "i ' nin değeri : 8\n",
      "i ' nin değeri : 9\n"
     ]
    }
   ],
   "source": [
    "i = 0\n",
    "\n",
    "while(i < 10):\n",
    "    print(\"i ' nin değeri : {}\".format(i))\n",
    "    i+=1"
   ]
  },
  {
   "cell_type": "code",
   "execution_count": 4,
   "metadata": {},
   "outputs": [
    {
     "name": "stdout",
     "output_type": "stream",
     "text": [
      "i ' nin değeri : 0\n",
      "i ' nin değeri : 2\n",
      "i ' nin değeri : 4\n",
      "i ' nin değeri : 6\n",
      "i ' nin değeri : 8\n"
     ]
    }
   ],
   "source": [
    "i = 0\n",
    "\n",
    "while(i < 10):\n",
    "    print(\"i ' nin değeri : {}\".format(i))\n",
    "    i+=2"
   ]
  },
  {
   "cell_type": "code",
   "execution_count": 5,
   "metadata": {
    "collapsed": true
   },
   "outputs": [],
   "source": [
    "liste = [1,2,3,4,5,6,7,8,9,10]"
   ]
  },
  {
   "cell_type": "code",
   "execution_count": 2,
   "metadata": {},
   "outputs": [
    {
     "name": "stdout",
     "output_type": "stream",
     "text": [
      "Değer : 1\n",
      "Değer : 2\n",
      "Değer : 3\n",
      "Değer : 4\n",
      "Değer : 5\n",
      "Değer : 6\n",
      "Değer : 7\n",
      "Değer : 8\n",
      "Değer : 9\n",
      "Değer : 10\n"
     ]
    }
   ],
   "source": [
    "liste = [1,2,3,4,5,6,7,8,9,10]\n",
    "index = 0\n",
    "\n",
    "while(index < len(liste)):\n",
    "    print(\"Değer : {}\".format(liste[index]))\n",
    "    index+=1"
   ]
  },
  {
   "cell_type": "code",
   "execution_count": null,
   "metadata": {
    "collapsed": true
   },
   "outputs": [],
   "source": []
  }
 ],
 "metadata": {
  "kernelspec": {
   "display_name": "Python 3",
   "language": "python",
   "name": "python3"
  },
  "language_info": {
   "codemirror_mode": {
    "name": "ipython",
    "version": 3
   },
   "file_extension": ".py",
   "mimetype": "text/x-python",
   "name": "python",
   "nbconvert_exporter": "python",
   "pygments_lexer": "ipython3",
   "version": "3.7.1"
  }
 },
 "nbformat": 4,
 "nbformat_minor": 2
}
