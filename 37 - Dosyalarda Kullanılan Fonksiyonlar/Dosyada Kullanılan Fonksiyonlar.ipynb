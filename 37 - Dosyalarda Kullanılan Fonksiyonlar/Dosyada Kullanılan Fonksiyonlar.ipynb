{
 "cells": [
  {
   "cell_type": "code",
   "execution_count": 2,
   "metadata": {},
   "outputs": [],
   "source": [
    "# dosyayı otomatik olarak kapatmak için with open(....) as file komutu kullanacağız\n",
    "\n",
    "with open(\"bilgiler.txt\",\"w\",encoding=\"utf-8\") as file:\n",
    "    file.write(\"Sercan\\nNoyan\\nGermiyanoğlu\")\n",
    "    \n"
   ]
  },
  {
   "cell_type": "code",
   "execution_count": 3,
   "metadata": {},
   "outputs": [
    {
     "name": "stdout",
     "output_type": "stream",
     "text": [
      "Sercan\n",
      "\n",
      "Noyan\n",
      "\n",
      "Germiyanoğlu\n"
     ]
    }
   ],
   "source": [
    "with open(\"bilgiler.txt\",\"r\",encoding=\"utf-8\") as file:\n",
    "    for i in file:\n",
    "        print(i)"
   ]
  },
  {
   "cell_type": "code",
   "execution_count": 4,
   "metadata": {},
   "outputs": [
    {
     "name": "stdout",
     "output_type": "stream",
     "text": [
      "0\n"
     ]
    }
   ],
   "source": [
    "with open(\"bilgiler.txt\",\"r\",encoding=\"utf-8\") as file:\n",
    "    print(file.tell()) # tell() imleçin nerede olduğunu gösterir. "
   ]
  },
  {
   "cell_type": "code",
   "execution_count": 5,
   "metadata": {},
   "outputs": [
    {
     "name": "stdout",
     "output_type": "stream",
     "text": [
      "0\n",
      "20\n"
     ]
    }
   ],
   "source": [
    "with open(\"bilgiler.txt\",\"r\",encoding=\"utf-8\") as file:\n",
    "    print(file.tell()) # tell() imleçin nerede olduğunu gösterir.\n",
    "    file.seek(20) # seek() ile imleçi istediğimiz yere aldık burada 20. baytta gittik\n",
    "    print(file.tell()) # tell() imleçin nerede olduğunu gösterir."
   ]
  },
  {
   "cell_type": "code",
   "execution_count": 7,
   "metadata": {},
   "outputs": [],
   "source": [
    "with open(\"örnek.txt\",\"w\",encoding=\"utf-8\") as file:\n",
    "    pass"
   ]
  },
  {
   "cell_type": "code",
   "execution_count": 10,
   "metadata": {},
   "outputs": [
    {
     "name": "stdout",
     "output_type": "stream",
     "text": [
      "n,Java ve \n"
     ]
    }
   ],
   "source": [
    "with open(\"örnek.txt\",\"r\",encoding=\"utf-8\") as file:\n",
    "    file.seek(5)\n",
    "    içerik = file.read(10)\n",
    "    print(içerik)"
   ]
  },
  {
   "cell_type": "code",
   "execution_count": 11,
   "metadata": {},
   "outputs": [
    {
     "name": "stdout",
     "output_type": "stream",
     "text": [
      "15\n",
      "n,Java ve \n"
     ]
    }
   ],
   "source": [
    "with open(\"örnek.txt\",\"r\",encoding=\"utf-8\") as file:\n",
    "    file.seek(5)\n",
    "    içerik = file.read(10)\n",
    "    print(file.tell())\n",
    "    print(içerik)"
   ]
  },
  {
   "cell_type": "code",
   "execution_count": 12,
   "metadata": {},
   "outputs": [
    {
     "name": "stdout",
     "output_type": "stream",
     "text": [
      "n,Java ve \n",
      "Pyhton,J\n"
     ]
    }
   ],
   "source": [
    "with open(\"örnek.txt\",\"r\",encoding=\"utf-8\") as file:\n",
    "    file.seek(5)\n",
    "    içerik1 = file.read(10)\n",
    "    file.seek(0)\n",
    "    içerik2 = file.read(8)\n",
    "    print(içerik1)\n",
    "    print(içerik2)"
   ]
  },
  {
   "cell_type": "code",
   "execution_count": null,
   "metadata": {
    "collapsed": true
   },
   "outputs": [],
   "source": []
  }
 ],
 "metadata": {
  "kernelspec": {
   "display_name": "Python 3",
   "language": "python",
   "name": "python3"
  },
  "language_info": {
   "codemirror_mode": {
    "name": "ipython",
    "version": 3
   },
   "file_extension": ".py",
   "mimetype": "text/x-python",
   "name": "python",
   "nbconvert_exporter": "python",
   "pygments_lexer": "ipython3",
   "version": "3.7.1"
  }
 },
 "nbformat": 4,
 "nbformat_minor": 2
}
