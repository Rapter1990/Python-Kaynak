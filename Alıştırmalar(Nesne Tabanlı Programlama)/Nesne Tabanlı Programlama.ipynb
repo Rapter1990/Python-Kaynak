{
 "cells": [
  {
   "cell_type": "code",
   "execution_count": 1,
   "metadata": {
    "collapsed": true
   },
   "outputs": [],
   "source": [
    "class Insan():\n",
    "    pass"
   ]
  },
  {
   "cell_type": "code",
   "execution_count": 2,
   "metadata": {},
   "outputs": [
    {
     "name": "stdout",
     "output_type": "stream",
     "text": [
      "<class 'type'>\n"
     ]
    }
   ],
   "source": [
    "print(type(Insan)) # sınıfın türünü gösterir."
   ]
  },
  {
   "cell_type": "code",
   "execution_count": 3,
   "metadata": {
    "collapsed": true
   },
   "outputs": [],
   "source": [
    "# Araba sınıfını oluşturduk\n",
    "class Araba():\n",
    "    model = \"BMW 3.20i\"\n",
    "    beygir_gucu = 250\n",
    "    renk = \"mavi\"\n",
    "    silindir = 4"
   ]
  },
  {
   "cell_type": "code",
   "execution_count": 4,
   "metadata": {
    "collapsed": true
   },
   "outputs": [],
   "source": [
    "araba1 = Araba() # obje yaratma"
   ]
  },
  {
   "cell_type": "code",
   "execution_count": 5,
   "metadata": {},
   "outputs": [
    {
     "data": {
      "text/plain": [
       "<__main__.Araba at 0x2a4e5dcd160>"
      ]
     },
     "execution_count": 5,
     "metadata": {},
     "output_type": "execute_result"
    }
   ],
   "source": [
    "araba1"
   ]
  },
  {
   "cell_type": "code",
   "execution_count": 6,
   "metadata": {},
   "outputs": [
    {
     "name": "stdout",
     "output_type": "stream",
     "text": [
      "BMW 3.20i\n"
     ]
    }
   ],
   "source": [
    "print(araba1.model) # araba sınıfın değişkenini gösterdi"
   ]
  },
  {
   "cell_type": "code",
   "execution_count": 7,
   "metadata": {},
   "outputs": [
    {
     "name": "stdout",
     "output_type": "stream",
     "text": [
      "250\n"
     ]
    }
   ],
   "source": [
    "print(araba1.beygir_gucu) # araba sınıfının beygir gucunu gösterdi"
   ]
  },
  {
   "cell_type": "code",
   "execution_count": 9,
   "metadata": {},
   "outputs": [
    {
     "name": "stdout",
     "output_type": "stream",
     "text": [
      "mavi\n"
     ]
    }
   ],
   "source": [
    "print(araba1.renk) # araba sınıfın renkini gösterdi"
   ]
  },
  {
   "cell_type": "code",
   "execution_count": 10,
   "metadata": {},
   "outputs": [
    {
     "name": "stdout",
     "output_type": "stream",
     "text": [
      "4\n"
     ]
    }
   ],
   "source": [
    "print(araba1.silindir) # araba sınıfın silindir gösterecek"
   ]
  },
  {
   "cell_type": "code",
   "execution_count": 11,
   "metadata": {},
   "outputs": [
    {
     "data": {
      "text/plain": [
       "['__class__',\n",
       " '__delattr__',\n",
       " '__dict__',\n",
       " '__dir__',\n",
       " '__doc__',\n",
       " '__eq__',\n",
       " '__format__',\n",
       " '__ge__',\n",
       " '__getattribute__',\n",
       " '__gt__',\n",
       " '__hash__',\n",
       " '__init__',\n",
       " '__init_subclass__',\n",
       " '__le__',\n",
       " '__lt__',\n",
       " '__module__',\n",
       " '__ne__',\n",
       " '__new__',\n",
       " '__reduce__',\n",
       " '__reduce_ex__',\n",
       " '__repr__',\n",
       " '__setattr__',\n",
       " '__sizeof__',\n",
       " '__str__',\n",
       " '__subclasshook__',\n",
       " '__weakref__',\n",
       " 'beygir_gucu',\n",
       " 'model',\n",
       " 'renk',\n",
       " 'silindir']"
      ]
     },
     "execution_count": 11,
     "metadata": {},
     "output_type": "execute_result"
    }
   ],
   "source": [
    "dir(araba1) # sınıfın kullanıbilecek methodlarını gösterir."
   ]
  },
  {
   "cell_type": "code",
   "execution_count": 20,
   "metadata": {
    "collapsed": true
   },
   "outputs": [],
   "source": [
    "# __init__()\n",
    "class Araba():\n",
    "    \n",
    "    def __init__(self): #self değikenleri sınıf çağırıldığında yaratır.\n",
    "        print(\"init Fonksiyonu çalıştı\")\n",
    "        self.model = \"BMW 3.20i\"\n",
    "        self.beygir_gucu = 250\n",
    "        self.renk = \"mavi\"\n",
    "        self.silindir = 4"
   ]
  },
  {
   "cell_type": "code",
   "execution_count": 21,
   "metadata": {},
   "outputs": [
    {
     "name": "stdout",
     "output_type": "stream",
     "text": [
      "init Fonksiyonu çalıştı\n"
     ]
    }
   ],
   "source": [
    "araba1 = Araba()"
   ]
  },
  {
   "cell_type": "code",
   "execution_count": 22,
   "metadata": {},
   "outputs": [
    {
     "name": "stdout",
     "output_type": "stream",
     "text": [
      "Araba\n",
      "Model: BMW 3.20i\n",
      "Beygir Gücü : 250\n",
      "Renk : mavi\n",
      "Silindir : 4\n"
     ]
    }
   ],
   "source": [
    "print(\"Araba\\nModel: {}\\nBeygir Gücü : {}\\nRenk : {}\\nSilindir : {}\".format(araba1.model,araba1.beygir_gucu,araba1.renk,araba1.silindir))"
   ]
  },
  {
   "cell_type": "code",
   "execution_count": 27,
   "metadata": {
    "collapsed": true
   },
   "outputs": [],
   "source": [
    "class Hayvan():\n",
    "    \n",
    "    def __init__(self,cins,tur,ayaksayisi):\n",
    "        print(\"init fonksiyonu çalıştı...\")\n",
    "        self.cins = cins\n",
    "        self.tur = tur\n",
    "        self.ayaksayisi = ayaksayisi\n",
    "        \n",
    "# Hayvan\n",
    "# cins,tur,ayaksayisi\n",
    "\n",
    "# cins = \"Kuş\"\n",
    "# tur = \"Karga\"\n",
    "# ayaksayisi = 2"
   ]
  },
  {
   "cell_type": "code",
   "execution_count": 28,
   "metadata": {},
   "outputs": [
    {
     "name": "stdout",
     "output_type": "stream",
     "text": [
      "init fonksiyonu çalıştı...\n"
     ]
    }
   ],
   "source": [
    "hayvan = Hayvan(\"Kuş\",\"Karga\",2)"
   ]
  },
  {
   "cell_type": "code",
   "execution_count": 29,
   "metadata": {},
   "outputs": [
    {
     "name": "stdout",
     "output_type": "stream",
     "text": [
      "Hayvan Özellikleri\n",
      "Cins : Kuş\n",
      "Tür : Karga\n",
      "Ayak Sayisi : 2\n"
     ]
    }
   ],
   "source": [
    "print(\"Hayvan Özellikleri\\nCins : {}\\nTür : {}\\nAyak Sayisi : {}\".format(hayvan.cins,hayvan.tur,hayvan.ayaksayisi))"
   ]
  },
  {
   "cell_type": "code",
   "execution_count": 31,
   "metadata": {
    "collapsed": true
   },
   "outputs": [],
   "source": [
    "class Calisan():\n",
    "    # Bilgi Yok dediğimiz eksik bilgiyi göstermek için kullanılır. \n",
    "    def __init__(self,ad=\"Bilgi Yok\",soyad=\"Bilgi Yok\",tc_no = \"\"):\n",
    "        print(\"init fonksiyonu çalıştı\")\n",
    "        self.ad = ad\n",
    "        self.soyad = soyad\n",
    "        self.tc_no = tc_no"
   ]
  },
  {
   "cell_type": "code",
   "execution_count": 32,
   "metadata": {},
   "outputs": [
    {
     "name": "stdout",
     "output_type": "stream",
     "text": [
      "init fonksiyonu çalıştı\n"
     ]
    }
   ],
   "source": [
    "calisan = Calisan()"
   ]
  },
  {
   "cell_type": "code",
   "execution_count": 33,
   "metadata": {},
   "outputs": [
    {
     "name": "stdout",
     "output_type": "stream",
     "text": [
      "init fonksiyonu çalıştı\n"
     ]
    }
   ],
   "source": [
    "calisan = Calısan(ad = \"Ali\",tc_no = \"123456789\")"
   ]
  },
  {
   "cell_type": "code",
   "execution_count": 35,
   "metadata": {},
   "outputs": [
    {
     "name": "stdout",
     "output_type": "stream",
     "text": [
      "Calışan Adı : Ali\n",
      "Çalışan Soyad : Bilgi Yok\n",
      "Çalışan TC_No : 123456789\n"
     ]
    }
   ],
   "source": [
    "print(\"Calışan Adı : {}\\nÇalışan Soyad : {}\\nÇalışan TC_No : {}\".format(calisan.ad,calisan.soyad,calisan.tc_no))"
   ]
  },
  {
   "cell_type": "code",
   "execution_count": 45,
   "metadata": {},
   "outputs": [],
   "source": [
    "# __str__() -> print(tanımladığımız obje)\n",
    "\n",
    "class Kitap():\n",
    "    \n",
    "    def __init__(self,ad,yazar,tur,sayfasayisi): # obje yaratırılken bu fonksiyon çağırılır.\n",
    "        print(\"init fonksiyonu çalıştı\")\n",
    "        self.ad = ad\n",
    "        self.yazar = yazar\n",
    "        self.tur = tur\n",
    "        self.sayfasayisi = sayfasayisi\n",
    "        \n",
    "    def __str__(self): # print yazdığımızda bu fonksiyon çağırılır. \n",
    "        return \"Kitap Adı : {}\\nKitap Yazar : {}\\nKitap Türü : {}\\nKitap Sayfa Sayisi : {}\".format(self.ad,self.yazar,self.tur,self.sayfasayisi)"
   ]
  },
  {
   "cell_type": "code",
   "execution_count": 46,
   "metadata": {},
   "outputs": [
    {
     "name": "stdout",
     "output_type": "stream",
     "text": [
      "init fonksiyonu çalıştı\n"
     ]
    }
   ],
   "source": [
    "kitap = Kitap(\"İstanbul Hatırası\",\"Ahmet Ümit\",\"Polisiye\",230)"
   ]
  },
  {
   "cell_type": "code",
   "execution_count": 47,
   "metadata": {},
   "outputs": [
    {
     "name": "stdout",
     "output_type": "stream",
     "text": [
      "Kitap Adı : İstanbul Hatırası\n",
      "Kitap Yazar : Ahmet Ümit\n",
      "Kitap Türü : Polisiye\n",
      "Kitap Sayfa Sayisi : 230\n"
     ]
    }
   ],
   "source": [
    "print(kitap)"
   ]
  },
  {
   "cell_type": "code",
   "execution_count": 51,
   "metadata": {
    "collapsed": true
   },
   "outputs": [],
   "source": [
    "# __len__ () -> sayfa sayisi gibi değişkenlerin uzunluğunu gösterir.\n",
    "class Kitap():\n",
    "    \n",
    "    def __init__(self,ad,yazar,tur,sayfasayisi): # obje yaratırılken bu fonksiyon çağırılır.\n",
    "        print(\"init fonksiyonu çalıştı\")\n",
    "        self.ad = ad\n",
    "        self.yazar = yazar\n",
    "        self.tur = tur\n",
    "        self.sayfasayisi = sayfasayisi\n",
    "        \n",
    "    def __str__(self): # print yazdığımızda bu fonksiyon çağırılır. \n",
    "        return \"Kitap Adı : {}\\nKitap Yazar : {}\\nKitap Türü : {}\\nKitap Sayfa Sayisi : {}\".format(self.ad,self.yazar,self.tur,self.sayfasayisi)\n",
    "    \n",
    "    def __len__(self):\n",
    "        return self.sayfasayisi"
   ]
  },
  {
   "cell_type": "code",
   "execution_count": 54,
   "metadata": {},
   "outputs": [
    {
     "name": "stdout",
     "output_type": "stream",
     "text": [
      "init fonksiyonu çalıştı\n"
     ]
    }
   ],
   "source": [
    "kitap = Kitap(\"İstanbul Hatırası\",\"Ahmet Ümit\",\"Polisiye\",230)"
   ]
  },
  {
   "cell_type": "code",
   "execution_count": 55,
   "metadata": {},
   "outputs": [
    {
     "name": "stdout",
     "output_type": "stream",
     "text": [
      "230\n"
     ]
    }
   ],
   "source": [
    "print(len(kitap))"
   ]
  },
  {
   "cell_type": "code",
   "execution_count": 56,
   "metadata": {
    "collapsed": true
   },
   "outputs": [],
   "source": [
    "# miras alma\n",
    "class Calısan():\n",
    "    \n",
    "    def __init__(self,ad,soyad):\n",
    "        print(\"Calışan Sınıfı Çalıştı\")\n",
    "        self.ad = ad\n",
    "        self.soyad = soyad\n",
    "        \n",
    "    def __str__(self):\n",
    "        return \"Ad : {}\\nSoyad : {}\".format(self.ad,self.soyad)"
   ]
  },
  {
   "cell_type": "code",
   "execution_count": 65,
   "metadata": {
    "collapsed": true
   },
   "outputs": [],
   "source": [
    "class Yonetici(Calısan):\n",
    "    \n",
    "    def __init__(self,ad,soyad):\n",
    "        print(\"Yönetici Sınıfı Çalıştı\")\n",
    "        super().__init__(ad,soyad) # miras aldığı sınıfın __init__ methodunu çağırdı."
   ]
  },
  {
   "cell_type": "code",
   "execution_count": 66,
   "metadata": {},
   "outputs": [
    {
     "name": "stdout",
     "output_type": "stream",
     "text": [
      "Yönetici Sınıfı Çalıştı\n",
      "Calışan Sınıfı Çalıştı\n"
     ]
    }
   ],
   "source": [
    "yonetici = Yonetici(\"Ersin\",\"Demir\")"
   ]
  },
  {
   "cell_type": "code",
   "execution_count": 67,
   "metadata": {},
   "outputs": [
    {
     "name": "stdout",
     "output_type": "stream",
     "text": [
      "Ad : Ersin\n",
      "Soyad : Demir\n"
     ]
    }
   ],
   "source": [
    "print(yonetici)"
   ]
  },
  {
   "cell_type": "code",
   "execution_count": null,
   "metadata": {
    "collapsed": true
   },
   "outputs": [],
   "source": []
  }
 ],
 "metadata": {
  "kernelspec": {
   "display_name": "Python 3",
   "language": "python",
   "name": "python3"
  },
  "language_info": {
   "codemirror_mode": {
    "name": "ipython",
    "version": 3
   },
   "file_extension": ".py",
   "mimetype": "text/x-python",
   "name": "python",
   "nbconvert_exporter": "python",
   "pygments_lexer": "ipython3",
   "version": "3.6.1"
  }
 },
 "nbformat": 4,
 "nbformat_minor": 2
}
