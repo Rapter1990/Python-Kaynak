{
 "cells": [
  {
   "cell_type": "code",
   "execution_count": 2,
   "metadata": {
    "collapsed": true
   },
   "outputs": [],
   "source": [
    "class Deneme(): # sınıf yapısı \n",
    "    pass # içine herhangi bir şey yazmadığımız için pass komutunu kullandık"
   ]
  },
  {
   "cell_type": "code",
   "execution_count": 3,
   "metadata": {},
   "outputs": [
    {
     "name": "stdout",
     "output_type": "stream",
     "text": [
      "<class 'type'>\n"
     ]
    }
   ],
   "source": [
    "print(type(Deneme)) # sınıf(class) yapısını gösterdi."
   ]
  },
  {
   "cell_type": "code",
   "execution_count": 4,
   "metadata": {
    "collapsed": true
   },
   "outputs": [],
   "source": [
    "deneme = Deneme() # obje tanımlamak için kullanılır."
   ]
  },
  {
   "cell_type": "code",
   "execution_count": 5,
   "metadata": {},
   "outputs": [
    {
     "name": "stdout",
     "output_type": "stream",
     "text": [
      "<__main__.Deneme object at 0x000001CF367C6BA8>\n"
     ]
    }
   ],
   "source": [
    "print(deneme) # RAM de nerede tutulduğunu gösterir."
   ]
  },
  {
   "cell_type": "code",
   "execution_count": 6,
   "metadata": {
    "collapsed": true
   },
   "outputs": [],
   "source": [
    "class Araba(): # Araba Sınıfı\n",
    "    model = \"BMW 3.20i\" # model = değişken (string)\n",
    "    renk = \"gri\" # renk = değişken (String)\n",
    "    beygir_gucu = 200 # beygir_gucu = değişken (int)\n",
    "    silindir = 4 # silindir = değişken (int)"
   ]
  },
  {
   "cell_type": "code",
   "execution_count": 7,
   "metadata": {
    "collapsed": true
   },
   "outputs": [],
   "source": [
    "araba = Araba() # araba objesini yaratma"
   ]
  },
  {
   "cell_type": "code",
   "execution_count": 8,
   "metadata": {},
   "outputs": [
    {
     "name": "stdout",
     "output_type": "stream",
     "text": [
      "BMW 3.20i\n"
     ]
    }
   ],
   "source": [
    "print(araba.model) # araba objesinin modeli gösterir"
   ]
  },
  {
   "cell_type": "code",
   "execution_count": 9,
   "metadata": {},
   "outputs": [
    {
     "name": "stdout",
     "output_type": "stream",
     "text": [
      "gri\n"
     ]
    }
   ],
   "source": [
    "print(araba.renk) # araba objesinin rengini gösterir."
   ]
  },
  {
   "cell_type": "code",
   "execution_count": 10,
   "metadata": {},
   "outputs": [
    {
     "name": "stdout",
     "output_type": "stream",
     "text": [
      "200\n"
     ]
    }
   ],
   "source": [
    "print(araba.beygir_gucu) # araba objesinin beygir_gucu gösterir."
   ]
  },
  {
   "cell_type": "code",
   "execution_count": 11,
   "metadata": {},
   "outputs": [
    {
     "name": "stdout",
     "output_type": "stream",
     "text": [
      "4\n"
     ]
    }
   ],
   "source": [
    "print(araba.silindir) # araba objesinin silindiri gösterir."
   ]
  },
  {
   "cell_type": "code",
   "execution_count": 13,
   "metadata": {},
   "outputs": [
    {
     "data": {
      "text/plain": [
       "['__class__',\n",
       " '__delattr__',\n",
       " '__dict__',\n",
       " '__dir__',\n",
       " '__doc__',\n",
       " '__eq__',\n",
       " '__format__',\n",
       " '__ge__',\n",
       " '__getattribute__',\n",
       " '__gt__',\n",
       " '__hash__',\n",
       " '__init__',\n",
       " '__init_subclass__',\n",
       " '__le__',\n",
       " '__lt__',\n",
       " '__module__',\n",
       " '__ne__',\n",
       " '__new__',\n",
       " '__reduce__',\n",
       " '__reduce_ex__',\n",
       " '__repr__',\n",
       " '__setattr__',\n",
       " '__sizeof__',\n",
       " '__str__',\n",
       " '__subclasshook__',\n",
       " '__weakref__',\n",
       " 'beygir_gucu',\n",
       " 'model',\n",
       " 'renk',\n",
       " 'silindir']"
      ]
     },
     "execution_count": 13,
     "metadata": {},
     "output_type": "execute_result"
    }
   ],
   "source": [
    "dir(araba) #araba objesinde kullanılacak tüm methodları ve değişkenleri gösterir."
   ]
  },
  {
   "cell_type": "code",
   "execution_count": 14,
   "metadata": {
    "collapsed": true
   },
   "outputs": [],
   "source": [
    "# __init__() -> \n",
    "# obje yaratırlırken kullanılar değişkenleri objeye atamak için kullanılır"
   ]
  },
  {
   "cell_type": "code",
   "execution_count": 19,
   "metadata": {
    "collapsed": true
   },
   "outputs": [],
   "source": [
    "class Araba():\n",
    "    model = \"\"\n",
    "    renk = \"\"\n",
    "    def __init__(self): \n",
    "        # dışırıdan gelen değişkenleri \n",
    "        # bu sınıftaki değişkenler atamak için kullanılır.\n",
    "        print(\"init fonksiyonu çalıştı...\")"
   ]
  },
  {
   "cell_type": "code",
   "execution_count": 20,
   "metadata": {},
   "outputs": [
    {
     "name": "stdout",
     "output_type": "stream",
     "text": [
      "init fonksiyonu çalıştı...\n"
     ]
    }
   ],
   "source": [
    "araba = Araba() # arabada objesini yaratma -> __init__() methodu çalıştırma"
   ]
  },
  {
   "cell_type": "code",
   "execution_count": 21,
   "metadata": {
    "collapsed": true
   },
   "outputs": [],
   "source": [
    "class Kitap():\n",
    "    \n",
    "    def __init__(self,ad,yazar,turu,sayfa_sayisi):\n",
    "        print(\"init fonksiyonu çalıştı\")\n",
    "        self.ad = ad # ad bu sınıfın ad değişkenine atama işlemi\n",
    "        self.yazar = yazar # yazar bu sınıfın yazar değişkenine atama işlemi\n",
    "        self.turu = turu # turu bu sınıfın turu değişkenine atama işlemi\n",
    "        self.sayfa_sayisi = sayfa_sayisi \n",
    "        #sayfa_sayisi bu sınıfın sayfa_sayisi değişkenine atama işlemi"
   ]
  },
  {
   "cell_type": "code",
   "execution_count": 23,
   "metadata": {},
   "outputs": [
    {
     "name": "stdout",
     "output_type": "stream",
     "text": [
      "init fonksiyonu çalıştı\n"
     ]
    }
   ],
   "source": [
    "kitap = Kitap(\"İstanbul Hatırası\",\"Ahmet Ümit\",\"Polisiye\",200)\n",
    "# \"İstanbul Hatırası\" -> ad \n",
    "# \"Ahmet Ümit\" -> yazar \n",
    "# \"Polisiye\" -> turu\n",
    "#  200 -> sayfa_sayisina "
   ]
  },
  {
   "cell_type": "code",
   "execution_count": 24,
   "metadata": {},
   "outputs": [
    {
     "name": "stdout",
     "output_type": "stream",
     "text": [
      "İstanbul Hatırası\n"
     ]
    }
   ],
   "source": [
    "print(kitap.ad) # Kitabın adını gösterdi"
   ]
  },
  {
   "cell_type": "code",
   "execution_count": 25,
   "metadata": {},
   "outputs": [
    {
     "name": "stdout",
     "output_type": "stream",
     "text": [
      "Ahmet Ümit\n"
     ]
    }
   ],
   "source": [
    "print(kitap.yazar) # Kitabın yazarını gösterir."
   ]
  },
  {
   "cell_type": "code",
   "execution_count": 26,
   "metadata": {},
   "outputs": [
    {
     "name": "stdout",
     "output_type": "stream",
     "text": [
      "Polisiye\n"
     ]
    }
   ],
   "source": [
    "print(kitap.turu) # Kitabın turunu gösterir."
   ]
  },
  {
   "cell_type": "code",
   "execution_count": 27,
   "metadata": {},
   "outputs": [
    {
     "name": "stdout",
     "output_type": "stream",
     "text": [
      "200\n"
     ]
    }
   ],
   "source": [
    "print(kitap.sayfa_sayisi) # Kitap Sayfa Sayısını gösterme"
   ]
  },
  {
   "cell_type": "code",
   "execution_count": 28,
   "metadata": {
    "collapsed": true
   },
   "outputs": [],
   "source": [
    "class Kitap():\n",
    "    \n",
    "    def __init__(self,ad = \"Bilgi Yok\",yazar = \"Bilgi Yok\",turu =\"Bilgi Yok\",sayfa_sayisi = \"Bilgi Yok\"):\n",
    "        print(\"init fonksiyonu çalıştı\")\n",
    "        self.ad = ad # ad bu sınıfın ad değişkenine atama işlemi\n",
    "        self.yazar = yazar # yazar bu sınıfın yazar değişkenine atama işlemi\n",
    "        self.turu = turu # turu bu sınıfın turu değişkenine atama işlemi\n",
    "        self.sayfa_sayisi = sayfa_sayisi \n",
    "        #sayfa_sayisi bu sınıfın sayfa_sayisi değişkenine atama işlemi"
   ]
  },
  {
   "cell_type": "code",
   "execution_count": 29,
   "metadata": {},
   "outputs": [
    {
     "name": "stdout",
     "output_type": "stream",
     "text": [
      "init fonksiyonu çalıştı\n"
     ]
    }
   ],
   "source": [
    "kitap = Kitap(ad = \"A\",yazar =\"B\", sayfa_sayisi =100)"
   ]
  },
  {
   "cell_type": "code",
   "execution_count": 31,
   "metadata": {},
   "outputs": [
    {
     "name": "stdout",
     "output_type": "stream",
     "text": [
      "A\n",
      "B\n",
      "Bilgi Yok\n",
      "100\n"
     ]
    }
   ],
   "source": [
    "print(kitap.ad)\n",
    "print(kitap.yazar)\n",
    "print(kitap.turu)\n",
    "print(kitap.sayfa_sayisi)"
   ]
  },
  {
   "cell_type": "code",
   "execution_count": 72,
   "metadata": {
    "collapsed": true
   },
   "outputs": [],
   "source": [
    "# __str__ -> print(objenin adı (bilgigöstermek için kullanılır return))\n",
    "\n",
    "class Yazılımcı():\n",
    "    \n",
    "    def __init__(self,ad,soyad,birim,diller,maas):\n",
    "        print(\"init Çalıştı\")\n",
    "        self.ad = ad\n",
    "        self.soyad = soyad\n",
    "        self.birim = birim\n",
    "        self.diller = diller\n",
    "        self.maas = maas\n",
    "        \n",
    "    # print(objenin adı) -> çalıştırmak için\n",
    "    def __str__(self):\n",
    "        return \"\"\"Ad : {}\n",
    "Soyad : {}\n",
    "Birim : {}\n",
    "Diller : {}\n",
    "Maas : {}\"\"\".format(self.ad,self.soyad,self.birim,self.diller,self.maas)\n",
    "    \n",
    "    def dil_ekle(self,dil):\n",
    "        self.diller.append(dil) \n",
    "        \n",
    "    def zam_ekle(self,zam):\n",
    "        self.maas +=zam"
   ]
  },
  {
   "cell_type": "code",
   "execution_count": 73,
   "metadata": {},
   "outputs": [
    {
     "name": "stdout",
     "output_type": "stream",
     "text": [
      "init Çalıştı\n"
     ]
    }
   ],
   "source": [
    "yazılımcı = Yazılımcı(\"Emrullah\",\"Köse\",\"Veritabanı Güvenliği\",[\"C\"],1000)"
   ]
  },
  {
   "cell_type": "code",
   "execution_count": 74,
   "metadata": {},
   "outputs": [
    {
     "name": "stdout",
     "output_type": "stream",
     "text": [
      "Ad : Emrullah\n",
      "Soyad : Köse\n",
      "Birim : Veritabanı Güvenliği\n",
      "Diller : ['C']\n",
      "Maas : 1000\n"
     ]
    }
   ],
   "source": [
    "print(yazılımcı)"
   ]
  },
  {
   "cell_type": "code",
   "execution_count": 75,
   "metadata": {},
   "outputs": [],
   "source": [
    "yazılımcı.dil_ekle(\"Go Lang\")"
   ]
  },
  {
   "cell_type": "code",
   "execution_count": 76,
   "metadata": {
    "collapsed": true
   },
   "outputs": [],
   "source": [
    "yazılımcı.dil_ekle(\"Php\")"
   ]
  },
  {
   "cell_type": "code",
   "execution_count": 77,
   "metadata": {},
   "outputs": [
    {
     "name": "stdout",
     "output_type": "stream",
     "text": [
      "Ad : Emrullah\n",
      "Soyad : Köse\n",
      "Birim : Veritabanı Güvenliği\n",
      "Diller : ['C', 'Go Lang', 'Php']\n",
      "Maas : 1000\n"
     ]
    }
   ],
   "source": [
    "print(yazılımcı)"
   ]
  },
  {
   "cell_type": "code",
   "execution_count": 78,
   "metadata": {},
   "outputs": [],
   "source": [
    "yazılımcı.zam_ekle(2000)"
   ]
  },
  {
   "cell_type": "code",
   "execution_count": 79,
   "metadata": {},
   "outputs": [
    {
     "name": "stdout",
     "output_type": "stream",
     "text": [
      "Ad : Emrullah\n",
      "Soyad : Köse\n",
      "Birim : Veritabanı Güvenliği\n",
      "Diller : ['C', 'Go Lang', 'Php']\n",
      "Maas : 3000\n"
     ]
    }
   ],
   "source": [
    "print(yazılımcı)"
   ]
  },
  {
   "cell_type": "code",
   "execution_count": 88,
   "metadata": {
    "collapsed": true
   },
   "outputs": [],
   "source": [
    "# len -> uzunlukları vermke için kullanılır.\n",
    "class Kitap():\n",
    "    \n",
    "    def __init__(self,ad,yazar,turu,sayfa_sayisi):\n",
    "        print(\"init fonksiyonu çalıştı\")\n",
    "        self.ad = ad # ad bu sınıfın ad değişkenine atama işlemi\n",
    "        self.yazar = yazar # yazar bu sınıfın yazar değişkenine atama işlemi\n",
    "        self.turu = turu # turu bu sınıfın turu değişkenine atama işlemi\n",
    "        self.sayfa_sayisi = sayfa_sayisi \n",
    "        #sayfa_sayisi bu sınıfın sayfa_sayisi değişkenine atama işlemi\n",
    "        \n",
    "    def __len__(self):\n",
    "        return self.sayfa_sayisi\n",
    "    \n",
    "    # objeyi silmek için kullanılır.\n",
    "    def __del__(self):\n",
    "        print(\"Obje Sildi..\")\n",
    "    "
   ]
  },
  {
   "cell_type": "code",
   "execution_count": 89,
   "metadata": {},
   "outputs": [
    {
     "name": "stdout",
     "output_type": "stream",
     "text": [
      "init fonksiyonu çalıştı\n"
     ]
    }
   ],
   "source": [
    "kitap = Kitap(\"İstanbul Hatırası\",\"Ahmet Ümit\",\"Polisiye\",200)"
   ]
  },
  {
   "cell_type": "code",
   "execution_count": 90,
   "metadata": {},
   "outputs": [
    {
     "name": "stdout",
     "output_type": "stream",
     "text": [
      "200\n"
     ]
    }
   ],
   "source": [
    "print(len(kitap)) #Sayfa sayisini Ekranda gösterme"
   ]
  },
  {
   "cell_type": "code",
   "execution_count": 91,
   "metadata": {},
   "outputs": [
    {
     "name": "stdout",
     "output_type": "stream",
     "text": [
      "Obje Sildi..\n"
     ]
    }
   ],
   "source": [
    "del kitap"
   ]
  },
  {
   "cell_type": "code",
   "execution_count": 92,
   "metadata": {},
   "outputs": [
    {
     "ename": "NameError",
     "evalue": "name 'kitap' is not defined",
     "output_type": "error",
     "traceback": [
      "\u001b[1;31m---------------------------------------------------------------------------\u001b[0m",
      "\u001b[1;31mNameError\u001b[0m                                 Traceback (most recent call last)",
      "\u001b[1;32m<ipython-input-92-2102c4d2e394>\u001b[0m in \u001b[0;36m<module>\u001b[1;34m()\u001b[0m\n\u001b[1;32m----> 1\u001b[1;33m \u001b[0mkitap\u001b[0m\u001b[1;33m\u001b[0m\u001b[0m\n\u001b[0m",
      "\u001b[1;31mNameError\u001b[0m: name 'kitap' is not defined"
     ]
    }
   ],
   "source": [
    "kitap"
   ]
  },
  {
   "cell_type": "code",
   "execution_count": 124,
   "metadata": {},
   "outputs": [],
   "source": [
    "#Miras \n",
    "\n",
    "class Calisan():\n",
    "    \n",
    "    def __init__(self,ad,soyad):\n",
    "        print(\"Calısan Sınıfın init fonksiyonu çalıştı\")\n",
    "        self.ad = ad\n",
    "        self.soyad = soyad\n",
    "        \n",
    "    def __str__(self):\n",
    "        return \"Ad : {}\\nSoyad : {}\".format(self.ad,self.soyad)  \n",
    "    "
   ]
  },
  {
   "cell_type": "code",
   "execution_count": 125,
   "metadata": {},
   "outputs": [],
   "source": [
    "class Yonetici(Calisan):\n",
    "    \n",
    "    def __init__(self,ad,soyad,kisi_sayisi):\n",
    "        print(\"Yonetici Sınıfın init fonksiyonu çalıştı\")\n",
    "        super().__init__(ad,soyad) # super() -> Miras aldığı sınıfı çağırma(Calısan)\n",
    "        self.kisi_sayisi = kisi_sayisi\n",
    "        \n",
    "    def __str__(self):\n",
    "        return \"Ad : {}\\nSoyad : {}\\nKişi Sayısı :{}\".format(self.ad,self.soyad,self.kisi_sayisi)\n",
    "        "
   ]
  },
  {
   "cell_type": "code",
   "execution_count": 126,
   "metadata": {},
   "outputs": [
    {
     "name": "stdout",
     "output_type": "stream",
     "text": [
      "Yonetici Sınıfın init fonksiyonu çalıştı\n",
      "Calısan Sınıfın init fonksiyonu çalıştı\n"
     ]
    }
   ],
   "source": [
    "yonetici = Yonetici(\"S\",\"N\",10)"
   ]
  },
  {
   "cell_type": "code",
   "execution_count": 111,
   "metadata": {},
   "outputs": [
    {
     "name": "stdout",
     "output_type": "stream",
     "text": [
      "Ad : S\n",
      "Soyad : N\n",
      "Kişi Sayısı :10\n"
     ]
    }
   ],
   "source": [
    "print(yonetici)"
   ]
  },
  {
   "cell_type": "code",
   "execution_count": 127,
   "metadata": {
    "collapsed": true
   },
   "outputs": [],
   "source": [
    "del yonetici"
   ]
  },
  {
   "cell_type": "code",
   "execution_count": 128,
   "metadata": {},
   "outputs": [
    {
     "ename": "NameError",
     "evalue": "name 'yonetici' is not defined",
     "output_type": "error",
     "traceback": [
      "\u001b[1;31m---------------------------------------------------------------------------\u001b[0m",
      "\u001b[1;31mNameError\u001b[0m                                 Traceback (most recent call last)",
      "\u001b[1;32m<ipython-input-128-461b06361727>\u001b[0m in \u001b[0;36m<module>\u001b[1;34m()\u001b[0m\n\u001b[1;32m----> 1\u001b[1;33m \u001b[0mprint\u001b[0m\u001b[1;33m(\u001b[0m\u001b[0myonetici\u001b[0m\u001b[1;33m)\u001b[0m\u001b[1;33m\u001b[0m\u001b[0m\n\u001b[0m",
      "\u001b[1;31mNameError\u001b[0m: name 'yonetici' is not defined"
     ]
    }
   ],
   "source": [
    "print(yonetici)"
   ]
  },
  {
   "cell_type": "code",
   "execution_count": null,
   "metadata": {
    "collapsed": true
   },
   "outputs": [],
   "source": []
  }
 ],
 "metadata": {
  "kernelspec": {
   "display_name": "Python 3",
   "language": "python",
   "name": "python3"
  },
  "language_info": {
   "codemirror_mode": {
    "name": "ipython",
    "version": 3
   },
   "file_extension": ".py",
   "mimetype": "text/x-python",
   "name": "python",
   "nbconvert_exporter": "python",
   "pygments_lexer": "ipython3",
   "version": "3.6.1"
  }
 },
 "nbformat": 4,
 "nbformat_minor": 2
}
