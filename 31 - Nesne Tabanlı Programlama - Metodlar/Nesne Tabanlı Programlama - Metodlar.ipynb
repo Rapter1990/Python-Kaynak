{
 "cells": [
  {
   "cell_type": "code",
   "execution_count": 17,
   "metadata": {},
   "outputs": [],
   "source": [
    "class Yazılımcı():\n",
    "    \n",
    "    def __init__(self,isim,soyisim,numara,maaş,diller):\n",
    "        self.isim = isim\n",
    "        self.soyisim = soyisim\n",
    "        self.numara = numara\n",
    "        self.maaş = maaş\n",
    "        self.diller = diller\n",
    "        \n",
    "    def bilgileri_göster(self):\n",
    "        print(\"Yazıllımcının Bilgileri\\nAd: {}\\nSoyad: {}\\nNumara : {}\\nMaaş : {}\\nDiller : {}\".format(self.isim,self.soyisim,self.numara,self.maaş,self.diller))\n",
    "        \n",
    "    def zam_miktarı(self,zam):\n",
    "        print(\"Zam Yapılıyor...\")\n",
    "        self.maaş +=zam\n",
    "        \n",
    "    def dil_ekle(self,dil):\n",
    "        print(\"Dil Ekleniyor...\")\n",
    "        self.diller.append(dil)"
   ]
  },
  {
   "cell_type": "code",
   "execution_count": 18,
   "metadata": {
    "collapsed": true
   },
   "outputs": [],
   "source": [
    "yazılımcı = Yazılımcı(\"Sercan Noyan\", \"Germiyanoğlu\",123456,4000,[\"Python\",\"Java\",\"Php\",\"Javascript\",\"Android\"])"
   ]
  },
  {
   "cell_type": "code",
   "execution_count": 4,
   "metadata": {},
   "outputs": [
    {
     "data": {
      "text/plain": [
       "<__main__.Yazılımcı at 0x21da6515e80>"
      ]
     },
     "execution_count": 4,
     "metadata": {},
     "output_type": "execute_result"
    }
   ],
   "source": [
    "yazılımcı"
   ]
  },
  {
   "cell_type": "code",
   "execution_count": 5,
   "metadata": {},
   "outputs": [
    {
     "data": {
      "text/plain": [
       "<bound method Yazılımcı.bilgileri_göster of <__main__.Yazılımcı object at 0x0000021DA6515E80>>"
      ]
     },
     "execution_count": 5,
     "metadata": {},
     "output_type": "execute_result"
    }
   ],
   "source": [
    "yazılımcı.bilgileri_göster"
   ]
  },
  {
   "cell_type": "code",
   "execution_count": 6,
   "metadata": {},
   "outputs": [
    {
     "name": "stdout",
     "output_type": "stream",
     "text": [
      "Yazıllımcının Bilgileri\n",
      "Ad: Sercan Noyan\n",
      "Soyad: Germiyanoğlu\n",
      "Numara : 123456\n",
      "Maaş : 4000\n",
      "Diller : ['Python', 'Java', 'Php', 'Javascript', 'Android']\n"
     ]
    }
   ],
   "source": [
    "yazılımcı.bilgileri_göster()"
   ]
  },
  {
   "cell_type": "code",
   "execution_count": 19,
   "metadata": {},
   "outputs": [
    {
     "name": "stdout",
     "output_type": "stream",
     "text": [
      "Dil Ekleniyor...\n"
     ]
    }
   ],
   "source": [
    "yazılımcı.dil_ekle(\"GoLang\")"
   ]
  },
  {
   "cell_type": "code",
   "execution_count": 20,
   "metadata": {},
   "outputs": [
    {
     "name": "stdout",
     "output_type": "stream",
     "text": [
      "Zam Yapılıyor...\n"
     ]
    }
   ],
   "source": [
    "yazılımcı.zam_miktarı(1000)"
   ]
  },
  {
   "cell_type": "code",
   "execution_count": 21,
   "metadata": {},
   "outputs": [
    {
     "name": "stdout",
     "output_type": "stream",
     "text": [
      "Yazıllımcının Bilgileri\n",
      "Ad: Sercan Noyan\n",
      "Soyad: Germiyanoğlu\n",
      "Numara : 123456\n",
      "Maaş : 5000\n",
      "Diller : ['Python', 'Java', 'Php', 'Javascript', 'Android', 'GoLang']\n"
     ]
    }
   ],
   "source": [
    "yazılımcı.bilgileri_göster()"
   ]
  },
  {
   "cell_type": "code",
   "execution_count": null,
   "metadata": {
    "collapsed": true
   },
   "outputs": [],
   "source": []
  }
 ],
 "metadata": {
  "kernelspec": {
   "display_name": "Python 3",
   "language": "python",
   "name": "python3"
  },
  "language_info": {
   "codemirror_mode": {
    "name": "ipython",
    "version": 3
   },
   "file_extension": ".py",
   "mimetype": "text/x-python",
   "name": "python",
   "nbconvert_exporter": "python",
   "pygments_lexer": "ipython3",
   "version": "3.7.1"
  }
 },
 "nbformat": 4,
 "nbformat_minor": 2
}
