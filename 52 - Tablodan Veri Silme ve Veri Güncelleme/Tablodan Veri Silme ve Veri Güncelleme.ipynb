{
 "cells": [
  {
   "cell_type": "markdown",
   "metadata": {
    "collapsed": true
   },
   "source": [
    "import sqlite3 # Sqlite'yı dahil ediyoruz\n",
    "\n",
    "con = sqlite3.connect(\"kütüphane.db\") # Tabloya bağlanıyoruz\n",
    "\n",
    "cursor = con.cursor() # cursor isimli değişken veritabanı üzerinde işlem yapmak için kullanacağımız imleç\n",
    "\n",
    "def tablo_olustur():\n",
    "    cursor.execute(\"\"\"CREATE TABLE IF NOT EXISTS kitaplık (isim TEXT,\n",
    "                   Yazar TEXT,Yayınevi TEXT,Sayfa_Sayisi INT)\"\"\")\n",
    "    con.commit() # yukarıdaki kodun çalışması ve kütüphan.db eklenmesi için bu kodu yazdık\n",
    "\n",
    "\n",
    "def veri_ekle():\n",
    "    cursor.execute(\"\"\"INSERT INTO kitaplık VALUES ('İstanbul Hatırası',\n",
    "'Ahmet Ümit','Everest',561)\n",
    "\"\"\")\n",
    "    con.commit()\n",
    "\n",
    "def veri_ekle2(isim,yazar,yayınevi,sayfa_sayısı):\n",
    "    cursor.execute(\"INSERT INTO kitaplık VALUES (?,?,?,?)\",(isim,yazar,yayınevi,sayfa_sayısı))\n",
    "    con.commit()\n",
    "\n",
    "\n",
    "def tum_verileri_getir():\n",
    "    cursor.execute(\"SELECT * FROM kitaplık\")\n",
    "    liste = cursor.fetchall()\n",
    "    print(\"Kitap Listesi\\n*************************************\")\n",
    "    for i in liste:\n",
    "        print(\"İsim : {}\\nYazar : {}\\nYayınevi : {}\\nSayfa Sayısı:{}\\n*******************\".format(i[0],i[1],i[2],i[3]))\n",
    "\n",
    "\n",
    "def isim_yazar_verileri_getir():\n",
    "    cursor.execute(\"SELECT isim,yazar FROM kitaplık\")\n",
    "    liste = cursor.fetchall()\n",
    "    print(\"Kitap Tablosunu Bilgileri\\n*************************************\")\n",
    "    for i in liste:\n",
    "        print(i)\n",
    "\n",
    "def yayınevi_getir(yayınevi):\n",
    "    cursor.execute(\"SELECT * FROM kitaplık WHERE Yayınevi = ?\",(yayınevi,)) # değişken bir tane olduğundan demet(tuple) , dedik\n",
    "    liste = cursor.fetchall()\n",
    "    print(\"Kitap Listesi\\n*************************************\")\n",
    "    for i in liste:\n",
    "        print(\"İsim : {}\\nYazar : {}\\nYayınevi : {}\\nSayfa Sayısı:{}\\n*******************\".format(i[0],i[1],i[2],i[3]))\n",
    "\n",
    "\n",
    "def yayınevi_veriyi_güncelle(eski_yayınevi,yeni_yayınevi):\n",
    "    cursor.execute(\"UPDATE kitaplık SET Yayınevi = ? WHERE Yayınevi = ?\",(yeni_yayınevi,eski_yayınevi))\n",
    "    con.commit()\n",
    "\n",
    "def yazar_sil(yazar):\n",
    "    cursor.execute(\"DELETE FROM kitaplık WHERE Yazar = ?\",(yazar,))\n",
    "    con.commit()\n",
    "\n",
    "# VERİ GÜNCELLELEME\n",
    "#tum_verileri_getir()\n",
    "#eski_yayınevi = input(\"Yayınevi adını giriniz :\")\n",
    "#yeni_yayınevi = input(\"Yeni Yayınevi adını giriniz :\")\n",
    "#yayınevi_veriyi_güncelle(eski_yayınevi,yeni_yayınevi)\n",
    "#tum_verileri_getir()\n",
    "\n",
    "# VERİ SİLME\n",
    "#tum_verileri_getir()\n",
    "#yazar = input(\"Silmek istediğiniz kitabın yazarını giriniz :\")\n",
    "#yazar_sil(yazar)\n",
    "#tum_verileri_getir()\n",
    "\n",
    "\n",
    "con.close() # Veritabanı bağlantısını kapatma\n"
   ]
  },
  {
   "cell_type": "markdown",
   "metadata": {},
   "source": [
    "** VERİ GÜNCELLEME VE VERİ SİLME**"
   ]
  },
  {
   "cell_type": "code",
   "execution_count": null,
   "metadata": {
    "collapsed": true
   },
   "outputs": [],
   "source": []
  }
 ],
 "metadata": {
  "kernelspec": {
   "display_name": "Python 3",
   "language": "python",
   "name": "python3"
  },
  "language_info": {
   "codemirror_mode": {
    "name": "ipython",
    "version": 3
   },
   "file_extension": ".py",
   "mimetype": "text/x-python",
   "name": "python",
   "nbconvert_exporter": "python",
   "pygments_lexer": "ipython3",
   "version": "3.6.1"
  }
 },
 "nbformat": 4,
 "nbformat_minor": 2
}
