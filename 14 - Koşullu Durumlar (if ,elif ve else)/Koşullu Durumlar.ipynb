{
 "cells": [
  {
   "cell_type": "code",
   "execution_count": 1,
   "metadata": {},
   "outputs": [
    {
     "name": "stdout",
     "output_type": "stream",
     "text": [
      "İşlem Giriniz :5\n",
      "Bunlar dışında işlem seçildi\n"
     ]
    }
   ],
   "source": [
    "islem = input(\"İşlem Giriniz :\")\n",
    "\n",
    "if(islem ==\"1\"):\n",
    "    print(\"İşlem 1 seçildi..\")\n",
    "elif(islem ==\"2\"):\n",
    "    print(\"İşlem 2 seçildi..\")\n",
    "elif(islem ==\"3\"):\n",
    "    print(\"İşlem 3 seçildi..\")\n",
    "else:\n",
    "    print(\"Bunlar dışında işlem seçildi\")"
   ]
  },
  {
   "cell_type": "code",
   "execution_count": null,
   "metadata": {
    "collapsed": true
   },
   "outputs": [],
   "source": [
    "notu = float(input(\"Notunuzu Giriniz :\"))\n",
    "\n",
    "if(notu >= 90):\n",
    "    print(\"AA\")\n",
    "elif(notu >= 80 and notu < 90):\n",
    "    print(\"BB\")\n",
    "elif(notu >= 70 and notu < 80):\n",
    "    print(\"CC\")\n",
    "elif(notu >=60 and notu <70):\n",
    "    print(\"DD\")\n",
    "else:\n",
    "    print(\"FF\")"
   ]
  }
 ],
 "metadata": {
  "kernelspec": {
   "display_name": "Python 3",
   "language": "python",
   "name": "python3"
  },
  "language_info": {
   "codemirror_mode": {
    "name": "ipython",
    "version": 3
   },
   "file_extension": ".py",
   "mimetype": "text/x-python",
   "name": "python",
   "nbconvert_exporter": "python",
   "pygments_lexer": "ipython3",
   "version": "3.7.1"
  }
 },
 "nbformat": 4,
 "nbformat_minor": 2
}
