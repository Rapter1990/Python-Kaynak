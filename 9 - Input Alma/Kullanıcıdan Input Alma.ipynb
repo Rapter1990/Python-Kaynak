{
 "cells": [
  {
   "cell_type": "code",
   "execution_count": 1,
   "metadata": {},
   "outputs": [
    {
     "name": "stdout",
     "output_type": "stream",
     "text": [
      "23\n"
     ]
    },
    {
     "data": {
      "text/plain": [
       "'23'"
      ]
     },
     "execution_count": 1,
     "metadata": {},
     "output_type": "execute_result"
    }
   ],
   "source": [
    "input()"
   ]
  },
  {
   "cell_type": "code",
   "execution_count": 2,
   "metadata": {},
   "outputs": [
    {
     "name": "stdout",
     "output_type": "stream",
     "text": [
      "Lüften bir sayı giriniziz : 4\n"
     ]
    },
    {
     "data": {
      "text/plain": [
       "'4'"
      ]
     },
     "execution_count": 2,
     "metadata": {},
     "output_type": "execute_result"
    }
   ],
   "source": [
    "input(\"Lüften bir sayı giriniziz : \")"
   ]
  },
  {
   "cell_type": "code",
   "execution_count": 4,
   "metadata": {},
   "outputs": [
    {
     "name": "stdout",
     "output_type": "stream",
     "text": [
      "Lüften bir sayı giriniziz : 5\n",
      "Kullanıcının girdiği değer  5\n"
     ]
    }
   ],
   "source": [
    "a = input(\"Lüften bir sayı giriniziz : \")\n",
    "print(\"Kullanıcının girdiği değer \" , a)"
   ]
  },
  {
   "cell_type": "code",
   "execution_count": 5,
   "metadata": {},
   "outputs": [
    {
     "name": "stdout",
     "output_type": "stream",
     "text": [
      "Lüften bir sayı giriniziz : 45\n",
      "454545\n"
     ]
    }
   ],
   "source": [
    "a = input(\"Lüften bir sayı giriniziz : \")\n",
    "print(a*3)"
   ]
  },
  {
   "cell_type": "code",
   "execution_count": 6,
   "metadata": {},
   "outputs": [
    {
     "name": "stdout",
     "output_type": "stream",
     "text": [
      "Lüften bir sayı giriniziz : 4\n",
      "<class 'str'>\n"
     ]
    }
   ],
   "source": [
    "a = input(\"Lüften bir sayı giriniziz : \")\n",
    "print(type(a))"
   ]
  },
  {
   "cell_type": "code",
   "execution_count": 7,
   "metadata": {},
   "outputs": [
    {
     "name": "stdout",
     "output_type": "stream",
     "text": [
      "Lüften bir sayı giriniziz : 5\n",
      "15\n"
     ]
    }
   ],
   "source": [
    "a = int(input(\"Lüften bir sayı giriniziz : \"))\n",
    "print(a*3)"
   ]
  },
  {
   "cell_type": "code",
   "execution_count": 8,
   "metadata": {},
   "outputs": [
    {
     "name": "stdout",
     "output_type": "stream",
     "text": [
      "Lüften bir sayı giriniziz : 1\n",
      "Lüften bir sayı giriniziz : 2\n",
      "Lüften bir sayı giriniziz : 3\n",
      "Toplam = 6\n"
     ]
    }
   ],
   "source": [
    "a = int(input(\"Lüften bir sayı giriniziz : \"))\n",
    "b = int(input(\"Lüften bir sayı giriniziz : \"))\n",
    "c = int(input(\"Lüften bir sayı giriniziz : \"))\n",
    "print(\"Toplam =\",a+b+c)"
   ]
  },
  {
   "cell_type": "code",
   "execution_count": 9,
   "metadata": {},
   "outputs": [
    {
     "name": "stdout",
     "output_type": "stream",
     "text": [
      "Lüften bir sayı giriniziz : 6y\n"
     ]
    },
    {
     "ename": "ValueError",
     "evalue": "invalid literal for int() with base 10: '6y'",
     "output_type": "error",
     "traceback": [
      "\u001b[1;31m---------------------------------------------------------------------------\u001b[0m",
      "\u001b[1;31mValueError\u001b[0m                                Traceback (most recent call last)",
      "\u001b[1;32m<ipython-input-9-579e7a416215>\u001b[0m in \u001b[0;36m<module>\u001b[1;34m()\u001b[0m\n\u001b[1;32m----> 1\u001b[1;33m \u001b[0ma\u001b[0m \u001b[1;33m=\u001b[0m \u001b[0mint\u001b[0m\u001b[1;33m(\u001b[0m\u001b[0minput\u001b[0m\u001b[1;33m(\u001b[0m\u001b[1;34m\"Lüften bir sayı giriniziz : \"\u001b[0m\u001b[1;33m)\u001b[0m\u001b[1;33m)\u001b[0m\u001b[1;33m\u001b[0m\u001b[0m\n\u001b[0m\u001b[0;32m      2\u001b[0m \u001b[0mprint\u001b[0m \u001b[1;33m(\u001b[0m\u001b[1;34m\"a:\"\u001b[0m\u001b[1;33m,\u001b[0m\u001b[0ma\u001b[0m\u001b[1;33m)\u001b[0m\u001b[1;33m\u001b[0m\u001b[0m\n",
      "\u001b[1;31mValueError\u001b[0m: invalid literal for int() with base 10: '6y'"
     ]
    }
   ],
   "source": [
    "a = int(input(\"Lüften bir sayı giriniziz : \"))\n",
    "print (\"a:\",a)"
   ]
  },
  {
   "cell_type": "code",
   "execution_count": 10,
   "metadata": {},
   "outputs": [
    {
     "name": "stdout",
     "output_type": "stream",
     "text": [
      "a: w\n",
      "Lüften tam sayı giriniz\n"
     ]
    }
   ],
   "source": [
    "try:\n",
    "    a = int(input(\"a: \"))\n",
    "    print(a)\n",
    "except ValueError:\n",
    "    print(\"Lüften tam sayı giriniz\")"
   ]
  },
  {
   "cell_type": "code",
   "execution_count": 12,
   "metadata": {},
   "outputs": [
    {
     "name": "stdout",
     "output_type": "stream",
     "text": [
      "İsminizi giriniz : sng\n",
      "İsminiz : sng\n"
     ]
    }
   ],
   "source": [
    "a = input(\"İsminizi giriniz : \")\n",
    "print(\"İsminiz :\",a)"
   ]
  },
  {
   "cell_type": "code",
   "execution_count": null,
   "metadata": {
    "collapsed": true
   },
   "outputs": [],
   "source": []
  }
 ],
 "metadata": {
  "kernelspec": {
   "display_name": "Python 3",
   "language": "python",
   "name": "python3"
  },
  "language_info": {
   "codemirror_mode": {
    "name": "ipython",
    "version": 3
   },
   "file_extension": ".py",
   "mimetype": "text/x-python",
   "name": "python",
   "nbconvert_exporter": "python",
   "pygments_lexer": "ipython3",
   "version": "3.7.1"
  }
 },
 "nbformat": 4,
 "nbformat_minor": 2
}
