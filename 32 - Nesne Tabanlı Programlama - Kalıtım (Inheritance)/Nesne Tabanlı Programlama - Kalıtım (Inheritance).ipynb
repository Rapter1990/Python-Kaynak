{
 "cells": [
  {
   "cell_type": "code",
   "execution_count": 5,
   "metadata": {
    "collapsed": true
   },
   "outputs": [],
   "source": [
    "class Çalışan():\n",
    "    \n",
    "    def __init__(self,isim,maaş,departman):\n",
    "        print(\"Çalışan sınıfın init fonksiyonu..\")\n",
    "        self.isim = isim\n",
    "        self.maaş = maaş\n",
    "        self.departman = departman\n",
    "        \n",
    "    def bilgileri_göster(self):\n",
    "        print(\"\"\"\n",
    "            Çalışan bilgisi\n",
    "            \n",
    "            İsim : {}\n",
    "            \n",
    "            Maaş : {}\n",
    "            \n",
    "            Departman : {}\n",
    "        \n",
    "        \n",
    "        \"\"\".format(self.isim,self.maaş,self.departman))\n",
    "        \n",
    "    def departman_değiştir(self,yeni_departman):\n",
    "        self.departman = yeni_departman\n",
    "        "
   ]
  },
  {
   "cell_type": "code",
   "execution_count": 6,
   "metadata": {},
   "outputs": [],
   "source": [
    "class Yönetici(Çalışan):\n",
    "    pass # bir blogu daha sonra tanımlamak için kullanılır\n"
   ]
  },
  {
   "cell_type": "code",
   "execution_count": 5,
   "metadata": {},
   "outputs": [
    {
     "name": "stdout",
     "output_type": "stream",
     "text": [
      "Çalışan sınıfın init fonksiyonu..\n"
     ]
    }
   ],
   "source": [
    "yönetici = Yönetici(\"Sercan Noyan Germiyanoğlu\",4000,\"Bilişim\")"
   ]
  },
  {
   "cell_type": "code",
   "execution_count": 6,
   "metadata": {},
   "outputs": [
    {
     "name": "stdout",
     "output_type": "stream",
     "text": [
      "\n",
      "            Çalışan bilgisi\n",
      "            \n",
      "            İsim : Sercan Noyan Germiyanoğlu\n",
      "            \n",
      "            Maaş : 4000\n",
      "            \n",
      "            Departman : Bilişim\n",
      "        \n",
      "        \n",
      "        \n"
     ]
    }
   ],
   "source": [
    "yönetici.bilgileri_göster()"
   ]
  },
  {
   "cell_type": "code",
   "execution_count": 7,
   "metadata": {},
   "outputs": [],
   "source": [
    "class Yönetici(Çalışan):\n",
    "    \n",
    "    def zam_yap(self,zam_miktarı):\n",
    "        self.maaş += zam_miktarı"
   ]
  },
  {
   "cell_type": "code",
   "execution_count": 8,
   "metadata": {},
   "outputs": [
    {
     "name": "stdout",
     "output_type": "stream",
     "text": [
      "Çalışan sınıfın init fonksiyonu..\n"
     ]
    }
   ],
   "source": [
    "yönetici = Yönetici(\"Sercan Noyan Germiyanoğlu\",4000,\"Bilişim\")"
   ]
  },
  {
   "cell_type": "code",
   "execution_count": 9,
   "metadata": {
    "collapsed": true
   },
   "outputs": [],
   "source": [
    "yönetici.zam_yap(300)"
   ]
  },
  {
   "cell_type": "code",
   "execution_count": 10,
   "metadata": {},
   "outputs": [
    {
     "name": "stdout",
     "output_type": "stream",
     "text": [
      "\n",
      "            Çalışan bilgisi\n",
      "            \n",
      "            İsim : Sercan Noyan Germiyanoğlu\n",
      "            \n",
      "            Maaş : 4300\n",
      "            \n",
      "            Departman : Bilişim\n",
      "        \n",
      "        \n",
      "        \n"
     ]
    }
   ],
   "source": [
    "yönetici.bilgileri_göster()"
   ]
  },
  {
   "cell_type": "code",
   "execution_count": 9,
   "metadata": {},
   "outputs": [],
   "source": [
    "class Çalışan():\n",
    "    \n",
    "    def __init__(self,isim,maaş,departman):\n",
    "        print(\"Çalışan sınıfın init fonksiyonu..\")\n",
    "        self.isim = isim\n",
    "        self.maaş = maaş\n",
    "        self.departman = departman\n",
    "        \n",
    "    def bilgileri_göster(self):\n",
    "        print(\"\"\"\n",
    "            Çalışan bilgisi\n",
    "            \n",
    "            İsim : {}\n",
    "            \n",
    "            Maaş : {}\n",
    "            \n",
    "            Departman : {}\n",
    "        \n",
    "        \n",
    "        \"\"\".format(self.isim,self.maaş,self.departman))\n",
    "        \n",
    "    def departman_değiştir(self,yeni_departman):\n",
    "        self.departman = yeni_departman\n",
    "        "
   ]
  },
  {
   "cell_type": "code",
   "execution_count": 10,
   "metadata": {},
   "outputs": [],
   "source": [
    "class Yönetici(Çalışan):\n",
    "    \n",
    "    def __init__(self,isim,maaş,departman,kişi_sayisi):\n",
    "        print(\"Yönetici sınıfın init fonksiyonu..\")\n",
    "        self.isim = isim\n",
    "        self.maaş = maaş\n",
    "        self.departman = departman\n",
    "        self.kişi_sayisi = kişi_sayisi\n",
    "        \n",
    "    def bilgileri_göster(self):\n",
    "        print(\"\"\"\n",
    "            Çalışan bilgisi\n",
    "            \n",
    "            İsim : {}\n",
    "            \n",
    "            Maaş : {}\n",
    "            \n",
    "            Departman : {}\n",
    "            \n",
    "            Sorumlu Kişi Sayısı : {}\n",
    "        \n",
    "        \n",
    "        \"\"\".format(self.isim,self.maaş,self.departman,self.kişi_sayisi))    \n",
    "        \n",
    "    \n",
    "    def zam_yap(self,zam_miktarı):\n",
    "        self.maaş += zam_miktarı"
   ]
  },
  {
   "cell_type": "code",
   "execution_count": 11,
   "metadata": {},
   "outputs": [
    {
     "name": "stdout",
     "output_type": "stream",
     "text": [
      "Yönetici sınıfın init fonksiyonu..\n"
     ]
    }
   ],
   "source": [
    "yönetici = Yönetici(\"Sevim Germiyanoğlu\",10000,\"İnsan Kaynakları\",100)"
   ]
  },
  {
   "cell_type": "code",
   "execution_count": 12,
   "metadata": {},
   "outputs": [
    {
     "name": "stdout",
     "output_type": "stream",
     "text": [
      "\n",
      "            Çalışan bilgisi\n",
      "            \n",
      "            İsim : Sevim Germiyanoğlu\n",
      "            \n",
      "            Maaş : 10000\n",
      "            \n",
      "            Departman : İnsan Kaynakları\n",
      "            \n",
      "            Sorumlu Kişi Sayısı : 100\n",
      "        \n",
      "        \n",
      "        \n"
     ]
    }
   ],
   "source": [
    "yönetici.bilgileri_göster()"
   ]
  },
  {
   "cell_type": "code",
   "execution_count": 13,
   "metadata": {},
   "outputs": [],
   "source": [
    "class Yönetici(Çalışan):\n",
    "    \n",
    "    def __init__(self,isim,maaş,departman,kişi_sayisi):\n",
    "        super().__init__(isim,maaş,departman)\n",
    "        print(\"Yönetici sınıfın init fonksiyonu..\")\n",
    "        self.kişi_sayisi = kişi_sayisi\n",
    "        \n",
    "    def bilgileri_göster(self):\n",
    "        print(\"\"\"\n",
    "            Çalışan bilgisi\n",
    "            \n",
    "            İsim : {}\n",
    "            \n",
    "            Maaş : {}\n",
    "            \n",
    "            Departman : {}\n",
    "            \n",
    "            Sorumlu Kişi Sayısı : {}\n",
    "        \n",
    "        \n",
    "        \"\"\".format(self.isim,self.maaş,self.departman,self.kişi_sayisi))    \n",
    "        \n",
    "    \n",
    "    def zam_yap(self,zam_miktarı):\n",
    "        self.maaş += zam_miktarı"
   ]
  },
  {
   "cell_type": "code",
   "execution_count": 14,
   "metadata": {},
   "outputs": [
    {
     "name": "stdout",
     "output_type": "stream",
     "text": [
      "Çalışan sınıfın init fonksiyonu..\n",
      "Yönetici sınıfın init fonksiyonu..\n"
     ]
    }
   ],
   "source": [
    "yönetici = Yönetici(\"Ali Germiyanoğlu\",1500,\"Sıkıntı ve Bunalıma Yol Açma Bölümü\",5)"
   ]
  },
  {
   "cell_type": "code",
   "execution_count": null,
   "metadata": {
    "collapsed": true
   },
   "outputs": [],
   "source": []
  }
 ],
 "metadata": {
  "kernelspec": {
   "display_name": "Python 3",
   "language": "python",
   "name": "python3"
  },
  "language_info": {
   "codemirror_mode": {
    "name": "ipython",
    "version": 3
   },
   "file_extension": ".py",
   "mimetype": "text/x-python",
   "name": "python",
   "nbconvert_exporter": "python",
   "pygments_lexer": "ipython3",
   "version": "3.7.1"
  }
 },
 "nbformat": 4,
 "nbformat_minor": 2
}
