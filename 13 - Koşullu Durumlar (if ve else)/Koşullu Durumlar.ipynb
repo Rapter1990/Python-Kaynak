{
 "cells": [
  {
   "cell_type": "code",
   "execution_count": 2,
   "metadata": {},
   "outputs": [
    {
     "name": "stdout",
     "output_type": "stream",
     "text": [
      "Lüften yaşınızı girininiz :13\n",
      "Bu mekana giremezssin..\n"
     ]
    }
   ],
   "source": [
    "yas = int(input(\"Lüften yaşınızı girininiz :\"))\n",
    "\n",
    "if(yas < 18):\n",
    "    print(\"Bu mekana giremezssin..\")"
   ]
  },
  {
   "cell_type": "code",
   "execution_count": 3,
   "metadata": {},
   "outputs": [
    {
     "name": "stdout",
     "output_type": "stream",
     "text": [
      "Lüften yaşınızı girininiz :23\n",
      "Mekana Hoşgeldin Bro..\n"
     ]
    }
   ],
   "source": [
    "yas = int(input(\"Lüften yaşınızı girininiz :\"))\n",
    "\n",
    "if(yas < 18):\n",
    "    print(\"Bu mekana giremezssin..\")\n",
    "else:\n",
    "    print(\"Mekana Hoşgeldin Bro..\")"
   ]
  },
  {
   "cell_type": "code",
   "execution_count": 1,
   "metadata": {},
   "outputs": [
    {
     "name": "stdout",
     "output_type": "stream",
     "text": [
      "Bir sayı giriniz :9\n",
      "Sıfır veya pozitif bir sayı\n"
     ]
    }
   ],
   "source": [
    "sayi = int(input(\"Bir sayı giriniz :\"))\n",
    "\n",
    "if(sayi < 0):\n",
    "    print(\"Negatif sayı\")\n",
    "else:\n",
    "    print(\"Sıfır veya pozitif bir sayı\")"
   ]
  },
  {
   "cell_type": "code",
   "execution_count": null,
   "metadata": {
    "collapsed": true
   },
   "outputs": [],
   "source": []
  }
 ],
 "metadata": {
  "kernelspec": {
   "display_name": "Python 3",
   "language": "python",
   "name": "python3"
  },
  "language_info": {
   "codemirror_mode": {
    "name": "ipython",
    "version": 3
   },
   "file_extension": ".py",
   "mimetype": "text/x-python",
   "name": "python",
   "nbconvert_exporter": "python",
   "pygments_lexer": "ipython3",
   "version": "3.7.1"
  }
 },
 "nbformat": 4,
 "nbformat_minor": 2
}
